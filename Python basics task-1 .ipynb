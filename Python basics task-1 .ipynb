{
 "cells": [
  {
   "cell_type": "raw",
   "metadata": {},
   "source": [
    "1.We are having 3 list like this\n",
    "  Colors=['Yellow','Green','White','Black']\n",
    "  Fruits=['Apple','Papaya','Mango','Orange']\n",
    "  Animals=['Tiger','Lion','Deer','Zebra']"
   ]
  },
  {
   "cell_type": "raw",
   "metadata": {},
   "source": [
    "i.Write a program that asks user to enter a Color/Fruit/Animal name and it should tell which category belongs to,like its is a Fruit or Color or Animal"
   ]
  },
  {
   "cell_type": "code",
   "execution_count": 1,
   "metadata": {},
   "outputs": [
    {
     "name": "stdout",
     "output_type": "stream",
     "text": [
      "Enter the name of Color/Fruits/Animals:Mango\n",
      "The Category belongs to Fruits\n"
     ]
    }
   ],
   "source": [
    "Colors=['Yellow','Green','White','Black']\n",
    "Fruits=['Apple','Papaya','Mango','Orange']\n",
    "Animals=['Tiger','Lion','Deer','Zebra']\n",
    "name=input('Enter the name of Color/Fruits/Animals:')\n",
    "\n",
    "if name in Colors:\n",
    "    Category='Color'\n",
    "elif name in Fruits:\n",
    "    Category='Fruits'\n",
    "elif name in Animals:\n",
    "    Category='Animals'\n",
    "else:\n",
    "    Category='null'\n",
    "    \n",
    "print('The Category belongs to',Category)"
   ]
  },
  {
   "cell_type": "raw",
   "metadata": {},
   "source": [
    "ii.Write a program that asks user to enter two items and it tells you if they both are in same category or not. For example if    I enter yellow and Black, it will print \"Both are colors\" but if I enter yellow and Tiger it should print \"They don't belong    to same category\""
   ]
  },
  {
   "cell_type": "code",
   "execution_count": 2,
   "metadata": {},
   "outputs": [
    {
     "name": "stdout",
     "output_type": "stream",
     "text": [
      "Enter 1st item....Papaya\n",
      "Enter 2nd item....Deer\n",
      "Both doesnot belongs to same Category\n"
     ]
    }
   ],
   "source": [
    "Colors=['Yellow','Green','White','Black']\n",
    "Fruits=['Apple','Papaya','Mango','Orange']\n",
    "Animals=['Tiger','Lion','Deer','Zebra']\n",
    "name1=input('Enter 1st item....')\n",
    "name2=input('Enter 2nd item....')\n",
    "\n",
    "if name1 in Colors and name2 in Colors:\n",
    "    Category='Both are colors'\n",
    "elif name1 in Fruits and name2 in Fruits:\n",
    "    Category='Both are Fruits'\n",
    "elif name1 in Animals and name2 in Animals:\n",
    "    Category='Both are Animals'\n",
    "else:\n",
    "    Category='Both doesnot belongs to same Category'\n",
    "    \n",
    "print(Category)\n"
   ]
  },
  {
   "cell_type": "raw",
   "metadata": {},
   "source": [
    "2.Write a python program that can tell you if your grade score good or not . Normal Score range is 40 to 60.\n",
    "\n",
    "  i. Ask user to enter his score.\n",
    "\n",
    "  ii. If it is below 40 to 60 range then print that score is low\n",
    "\n",
    "  iii. If it is above 60 then print that it is good otherwise print that it is normal\n",
    "\n",
    " "
   ]
  },
  {
   "cell_type": "code",
   "execution_count": 3,
   "metadata": {},
   "outputs": [
    {
     "name": "stdout",
     "output_type": "stream",
     "text": [
      "Enter your score...89\n",
      "Your score is good\n"
     ]
    }
   ],
   "source": [
    "score=eval(input('Enter your score...'))\n",
    "if score>=60:\n",
    "    Category ='Your score is good'\n",
    "elif score in range(40,61):\n",
    "    Category='Your score is normal'\n",
    "else:\n",
    "    Category='Your score is low'\n",
    "print(Category)   \n"
   ]
  },
  {
   "cell_type": "raw",
   "metadata": {},
   "source": [
    "3.After appearing in exam 10 times you got this result,\n",
    "\n",
    "result = [\"Pass\",\"Fail\",\"Fail\",\"Pass\",\"Fail\",\"Pass\",\"Pass\",\"Fail\",\"Fail\",\"Fail\"]\n",
    "\n",
    "Using for loop figure out how many times you got Pass"
   ]
  },
  {
   "cell_type": "code",
   "execution_count": 4,
   "metadata": {},
   "outputs": [
    {
     "name": "stdout",
     "output_type": "stream",
     "text": [
      "4\n"
     ]
    }
   ],
   "source": [
    "result=['Pass','Fail','Fail','Pass','Fail','Pass','Pass','Fail','Fail','Fail']\n",
    "count=0\n",
    "for i in result:\n",
    "    if i=='Pass':\n",
    "        count+=1\n",
    "print(count)"
   ]
  },
  {
   "cell_type": "raw",
   "metadata": {},
   "source": [
    "4.Write a program that prints following shape\n",
    "\n",
    "*\n",
    "\n",
    "* *\n",
    "\n",
    "* * *\n",
    "\n",
    "* * * *\n",
    "\n",
    "* * * * *\n",
    "\n",
    "* * * *\n",
    "\n",
    "* * *\n",
    "\n",
    "* *\n",
    "\n",
    "*\n"
   ]
  },
  {
   "cell_type": "code",
   "execution_count": 5,
   "metadata": {},
   "outputs": [
    {
     "name": "stdout",
     "output_type": "stream",
     "text": [
      "\n",
      "* \n",
      "* * \n",
      "* * * \n",
      "* * * * \n",
      "* * * * * \n",
      "* * * * \n",
      "* * * \n",
      "* * \n",
      "* \n"
     ]
    }
   ],
   "source": [
    "for i in range(5):\n",
    "    for j in range(i):\n",
    "        print('*',end=\" \")\n",
    "    print()\n",
    "for i in range(5,0,-1):\n",
    "    for j in range(i):\n",
    "        print('*',end=\" \")\n",
    "    print()"
   ]
  },
  {
   "cell_type": "raw",
   "metadata": {},
   "source": [
    "5.Lets say you are running a 50 km race. Write a program that,\n",
    "\n",
    "* Upon completing each 10 km asks you \"are you tired?\"\n",
    "* If you reply \"yes\" then it should break and print \"you didn't finish the race\"\n",
    "* If you reply \"no\" then it should continue and ask \"are you tired\" on every km\n",
    "* If you finish all 50 km then it should print congratulations message"
   ]
  },
  {
   "cell_type": "code",
   "execution_count": 6,
   "metadata": {},
   "outputs": [
    {
     "name": "stdout",
     "output_type": "stream",
     "text": [
      "Are you tired..no\n",
      "Are you tired..YES\n",
      "You haven't finished your race\n"
     ]
    }
   ],
   "source": [
    "for i in range(1,51):\n",
    "    if i%10==0:\n",
    "        run=input('Are you tired..')\n",
    "        if run=='YES':\n",
    "            print(\"You haven't finished your race\")\n",
    "            break\n",
    "if i==50:\n",
    "    print('Congratulations ! You have finished your race')\n",
    "    "
   ]
  },
  {
   "cell_type": "raw",
   "metadata": {},
   "source": [
    "6.Write a Python program to find those numbers which are divisible by 7 and multiple of 5, between 1500 and 2700 (both included)."
   ]
  },
  {
   "cell_type": "code",
   "execution_count": 7,
   "metadata": {},
   "outputs": [
    {
     "name": "stdout",
     "output_type": "stream",
     "text": [
      "1505 1540 1575 1610 1645 1680 1715 1750 1785 1820 1855 1890 1925 1960 1995 2030 2065 2100 2135 2170 2205 2240 2275 2310 2345 2380 2415 2450 2485 2520 2555 2590 2625 2660 2695 "
     ]
    }
   ],
   "source": [
    "for i in range(1500,2701):\n",
    "    if i%5==0 and i%7==0:\n",
    "        print(i,end=' ')"
   ]
  },
  {
   "cell_type": "raw",
   "metadata": {},
   "source": [
    "7. Print square of all numbers between 10 to 20 except even numbers"
   ]
  },
  {
   "cell_type": "code",
   "execution_count": 8,
   "metadata": {},
   "outputs": [
    {
     "name": "stdout",
     "output_type": "stream",
     "text": [
      "121 169 225 289 361 "
     ]
    }
   ],
   "source": [
    "for i in range(10,21):\n",
    "    if i%2==1:\n",
    "        print(i**2,end=' ')"
   ]
  },
  {
   "cell_type": "raw",
   "metadata": {},
   "source": [
    "8. Your Marks for five Test(test1 to test5) looks like this,\n",
    "\n",
    "marks_list = [65, 75, 2100, 95, 83]\n",
    "\n",
    "Write a program that asks you to enter marks and program should tell you in which test that marks occurred. If marks is not found then it should print that as well.\n",
    "\n"
   ]
  },
  {
   "cell_type": "code",
   "execution_count": 9,
   "metadata": {},
   "outputs": [
    {
     "name": "stdout",
     "output_type": "stream",
     "text": [
      "Enter the marks...95\n",
      "You got 95 marks in test 4\n"
     ]
    }
   ],
   "source": [
    "marks_list=[65,75,2100,95,83]\n",
    "n=int(input('Enter the marks...'))\n",
    "test=marks_list.index(n)+1\n",
    "if n not in marks_list:\n",
    "    print('Your marks are not found')\n",
    "else:\n",
    "    print('You got',n,'marks in test',test)"
   ]
  },
  {
   "cell_type": "code",
   "execution_count": null,
   "metadata": {},
   "outputs": [],
   "source": []
  }
 ],
 "metadata": {
  "kernelspec": {
   "display_name": "Python 3",
   "language": "python",
   "name": "python3"
  },
  "language_info": {
   "codemirror_mode": {
    "name": "ipython",
    "version": 3
   },
   "file_extension": ".py",
   "mimetype": "text/x-python",
   "name": "python",
   "nbconvert_exporter": "python",
   "pygments_lexer": "ipython3",
   "version": "3.8.5"
  }
 },
 "nbformat": 4,
 "nbformat_minor": 4
}
