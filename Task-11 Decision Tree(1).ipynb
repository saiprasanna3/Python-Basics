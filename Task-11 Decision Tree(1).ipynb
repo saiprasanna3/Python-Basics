{
 "cells": [
  {
   "cell_type": "code",
   "execution_count": 1,
   "metadata": {},
   "outputs": [],
   "source": [
    "import numpy as np\n",
    "import pandas as pd\n",
    "import matplotlib.pyplot as plt "
   ]
  },
  {
   "cell_type": "code",
   "execution_count": 2,
   "metadata": {},
   "outputs": [],
   "source": [
    "df=pd.read_csv('C:\\\\Users\\\\saipr\\\\Downloads\\\\train_u6lujuX_CVtuZ9i (1).csv')"
   ]
  },
  {
   "cell_type": "code",
   "execution_count": 3,
   "metadata": {},
   "outputs": [
    {
     "data": {
      "text/html": [
       "<div>\n",
       "<style scoped>\n",
       "    .dataframe tbody tr th:only-of-type {\n",
       "        vertical-align: middle;\n",
       "    }\n",
       "\n",
       "    .dataframe tbody tr th {\n",
       "        vertical-align: top;\n",
       "    }\n",
       "\n",
       "    .dataframe thead th {\n",
       "        text-align: right;\n",
       "    }\n",
       "</style>\n",
       "<table border=\"1\" class=\"dataframe\">\n",
       "  <thead>\n",
       "    <tr style=\"text-align: right;\">\n",
       "      <th></th>\n",
       "      <th>Loan_ID</th>\n",
       "      <th>Gender</th>\n",
       "      <th>Married</th>\n",
       "      <th>Dependents</th>\n",
       "      <th>Education</th>\n",
       "      <th>Self_Employed</th>\n",
       "      <th>ApplicantIncome</th>\n",
       "      <th>CoapplicantIncome</th>\n",
       "      <th>LoanAmount</th>\n",
       "      <th>Loan_Amount_Term</th>\n",
       "      <th>Credit_History</th>\n",
       "      <th>Property_Area</th>\n",
       "      <th>Loan_Status</th>\n",
       "    </tr>\n",
       "  </thead>\n",
       "  <tbody>\n",
       "    <tr>\n",
       "      <th>0</th>\n",
       "      <td>LP001002</td>\n",
       "      <td>Male</td>\n",
       "      <td>No</td>\n",
       "      <td>0</td>\n",
       "      <td>Graduate</td>\n",
       "      <td>No</td>\n",
       "      <td>5849</td>\n",
       "      <td>0.0</td>\n",
       "      <td>NaN</td>\n",
       "      <td>360.0</td>\n",
       "      <td>1.0</td>\n",
       "      <td>Urban</td>\n",
       "      <td>Y</td>\n",
       "    </tr>\n",
       "    <tr>\n",
       "      <th>1</th>\n",
       "      <td>LP001003</td>\n",
       "      <td>Male</td>\n",
       "      <td>Yes</td>\n",
       "      <td>1</td>\n",
       "      <td>Graduate</td>\n",
       "      <td>No</td>\n",
       "      <td>4583</td>\n",
       "      <td>1508.0</td>\n",
       "      <td>128.0</td>\n",
       "      <td>360.0</td>\n",
       "      <td>1.0</td>\n",
       "      <td>Rural</td>\n",
       "      <td>N</td>\n",
       "    </tr>\n",
       "    <tr>\n",
       "      <th>2</th>\n",
       "      <td>LP001005</td>\n",
       "      <td>Male</td>\n",
       "      <td>Yes</td>\n",
       "      <td>0</td>\n",
       "      <td>Graduate</td>\n",
       "      <td>Yes</td>\n",
       "      <td>3000</td>\n",
       "      <td>0.0</td>\n",
       "      <td>66.0</td>\n",
       "      <td>360.0</td>\n",
       "      <td>1.0</td>\n",
       "      <td>Urban</td>\n",
       "      <td>Y</td>\n",
       "    </tr>\n",
       "    <tr>\n",
       "      <th>3</th>\n",
       "      <td>LP001006</td>\n",
       "      <td>Male</td>\n",
       "      <td>Yes</td>\n",
       "      <td>0</td>\n",
       "      <td>Not Graduate</td>\n",
       "      <td>No</td>\n",
       "      <td>2583</td>\n",
       "      <td>2358.0</td>\n",
       "      <td>120.0</td>\n",
       "      <td>360.0</td>\n",
       "      <td>1.0</td>\n",
       "      <td>Urban</td>\n",
       "      <td>Y</td>\n",
       "    </tr>\n",
       "    <tr>\n",
       "      <th>4</th>\n",
       "      <td>LP001008</td>\n",
       "      <td>Male</td>\n",
       "      <td>No</td>\n",
       "      <td>0</td>\n",
       "      <td>Graduate</td>\n",
       "      <td>No</td>\n",
       "      <td>6000</td>\n",
       "      <td>0.0</td>\n",
       "      <td>141.0</td>\n",
       "      <td>360.0</td>\n",
       "      <td>1.0</td>\n",
       "      <td>Urban</td>\n",
       "      <td>Y</td>\n",
       "    </tr>\n",
       "  </tbody>\n",
       "</table>\n",
       "</div>"
      ],
      "text/plain": [
       "    Loan_ID Gender Married Dependents     Education Self_Employed  \\\n",
       "0  LP001002   Male      No          0      Graduate            No   \n",
       "1  LP001003   Male     Yes          1      Graduate            No   \n",
       "2  LP001005   Male     Yes          0      Graduate           Yes   \n",
       "3  LP001006   Male     Yes          0  Not Graduate            No   \n",
       "4  LP001008   Male      No          0      Graduate            No   \n",
       "\n",
       "   ApplicantIncome  CoapplicantIncome  LoanAmount  Loan_Amount_Term  \\\n",
       "0             5849                0.0         NaN             360.0   \n",
       "1             4583             1508.0       128.0             360.0   \n",
       "2             3000                0.0        66.0             360.0   \n",
       "3             2583             2358.0       120.0             360.0   \n",
       "4             6000                0.0       141.0             360.0   \n",
       "\n",
       "   Credit_History Property_Area Loan_Status  \n",
       "0             1.0         Urban           Y  \n",
       "1             1.0         Rural           N  \n",
       "2             1.0         Urban           Y  \n",
       "3             1.0         Urban           Y  \n",
       "4             1.0         Urban           Y  "
      ]
     },
     "execution_count": 3,
     "metadata": {},
     "output_type": "execute_result"
    }
   ],
   "source": [
    "df.head()"
   ]
  },
  {
   "cell_type": "code",
   "execution_count": 4,
   "metadata": {},
   "outputs": [
    {
     "name": "stdout",
     "output_type": "stream",
     "text": [
      "<class 'pandas.core.frame.DataFrame'>\n",
      "RangeIndex: 614 entries, 0 to 613\n",
      "Data columns (total 13 columns):\n",
      " #   Column             Non-Null Count  Dtype  \n",
      "---  ------             --------------  -----  \n",
      " 0   Loan_ID            614 non-null    object \n",
      " 1   Gender             601 non-null    object \n",
      " 2   Married            611 non-null    object \n",
      " 3   Dependents         599 non-null    object \n",
      " 4   Education          614 non-null    object \n",
      " 5   Self_Employed      582 non-null    object \n",
      " 6   ApplicantIncome    614 non-null    int64  \n",
      " 7   CoapplicantIncome  614 non-null    float64\n",
      " 8   LoanAmount         592 non-null    float64\n",
      " 9   Loan_Amount_Term   600 non-null    float64\n",
      " 10  Credit_History     564 non-null    float64\n",
      " 11  Property_Area      614 non-null    object \n",
      " 12  Loan_Status        614 non-null    object \n",
      "dtypes: float64(4), int64(1), object(8)\n",
      "memory usage: 62.5+ KB\n"
     ]
    }
   ],
   "source": [
    "df.info()"
   ]
  },
  {
   "cell_type": "code",
   "execution_count": 5,
   "metadata": {},
   "outputs": [
    {
     "data": {
      "text/plain": [
       "Loan_ID               object\n",
       "Gender                object\n",
       "Married               object\n",
       "Dependents            object\n",
       "Education             object\n",
       "Self_Employed         object\n",
       "ApplicantIncome        int64\n",
       "CoapplicantIncome    float64\n",
       "LoanAmount           float64\n",
       "Loan_Amount_Term     float64\n",
       "Credit_History       float64\n",
       "Property_Area         object\n",
       "Loan_Status           object\n",
       "dtype: object"
      ]
     },
     "execution_count": 5,
     "metadata": {},
     "output_type": "execute_result"
    }
   ],
   "source": [
    "df.dtypes"
   ]
  },
  {
   "cell_type": "code",
   "execution_count": 6,
   "metadata": {},
   "outputs": [
    {
     "data": {
      "text/plain": [
       "(614, 13)"
      ]
     },
     "execution_count": 6,
     "metadata": {},
     "output_type": "execute_result"
    }
   ],
   "source": [
    "df.shape"
   ]
  },
  {
   "cell_type": "code",
   "execution_count": 7,
   "metadata": {},
   "outputs": [
    {
     "data": {
      "text/plain": [
       "Loan_ID               0\n",
       "Gender               13\n",
       "Married               3\n",
       "Dependents           15\n",
       "Education             0\n",
       "Self_Employed        32\n",
       "ApplicantIncome       0\n",
       "CoapplicantIncome     0\n",
       "LoanAmount           22\n",
       "Loan_Amount_Term     14\n",
       "Credit_History       50\n",
       "Property_Area         0\n",
       "Loan_Status           0\n",
       "dtype: int64"
      ]
     },
     "execution_count": 7,
     "metadata": {},
     "output_type": "execute_result"
    }
   ],
   "source": [
    "df.isnull().sum()"
   ]
  },
  {
   "cell_type": "markdown",
   "metadata": {},
   "source": [
    "# Data cleaning"
   ]
  },
  {
   "cell_type": "code",
   "execution_count": 8,
   "metadata": {},
   "outputs": [
    {
     "data": {
      "text/plain": [
       "array(['Male', 'Female', nan], dtype=object)"
      ]
     },
     "execution_count": 8,
     "metadata": {},
     "output_type": "execute_result"
    }
   ],
   "source": [
    "#getting all values in gender column\n",
    "df['Gender'].unique()"
   ]
  },
  {
   "cell_type": "code",
   "execution_count": 9,
   "metadata": {},
   "outputs": [
    {
     "data": {
      "text/html": [
       "<div>\n",
       "<style scoped>\n",
       "    .dataframe tbody tr th:only-of-type {\n",
       "        vertical-align: middle;\n",
       "    }\n",
       "\n",
       "    .dataframe tbody tr th {\n",
       "        vertical-align: top;\n",
       "    }\n",
       "\n",
       "    .dataframe thead th {\n",
       "        text-align: right;\n",
       "    }\n",
       "</style>\n",
       "<table border=\"1\" class=\"dataframe\">\n",
       "  <thead>\n",
       "    <tr style=\"text-align: right;\">\n",
       "      <th></th>\n",
       "      <th>Loan_ID</th>\n",
       "      <th>Gender</th>\n",
       "      <th>Married</th>\n",
       "      <th>Dependents</th>\n",
       "      <th>Education</th>\n",
       "      <th>Self_Employed</th>\n",
       "      <th>ApplicantIncome</th>\n",
       "      <th>CoapplicantIncome</th>\n",
       "      <th>LoanAmount</th>\n",
       "      <th>Loan_Amount_Term</th>\n",
       "      <th>Credit_History</th>\n",
       "      <th>Property_Area</th>\n",
       "      <th>Loan_Status</th>\n",
       "    </tr>\n",
       "  </thead>\n",
       "  <tbody>\n",
       "    <tr>\n",
       "      <th>0</th>\n",
       "      <td>LP001002</td>\n",
       "      <td>0.0</td>\n",
       "      <td>No</td>\n",
       "      <td>0</td>\n",
       "      <td>Graduate</td>\n",
       "      <td>No</td>\n",
       "      <td>5849</td>\n",
       "      <td>0.0</td>\n",
       "      <td>NaN</td>\n",
       "      <td>360.0</td>\n",
       "      <td>1.0</td>\n",
       "      <td>Urban</td>\n",
       "      <td>Y</td>\n",
       "    </tr>\n",
       "    <tr>\n",
       "      <th>1</th>\n",
       "      <td>LP001003</td>\n",
       "      <td>0.0</td>\n",
       "      <td>Yes</td>\n",
       "      <td>1</td>\n",
       "      <td>Graduate</td>\n",
       "      <td>No</td>\n",
       "      <td>4583</td>\n",
       "      <td>1508.0</td>\n",
       "      <td>128.0</td>\n",
       "      <td>360.0</td>\n",
       "      <td>1.0</td>\n",
       "      <td>Rural</td>\n",
       "      <td>N</td>\n",
       "    </tr>\n",
       "    <tr>\n",
       "      <th>2</th>\n",
       "      <td>LP001005</td>\n",
       "      <td>0.0</td>\n",
       "      <td>Yes</td>\n",
       "      <td>0</td>\n",
       "      <td>Graduate</td>\n",
       "      <td>Yes</td>\n",
       "      <td>3000</td>\n",
       "      <td>0.0</td>\n",
       "      <td>66.0</td>\n",
       "      <td>360.0</td>\n",
       "      <td>1.0</td>\n",
       "      <td>Urban</td>\n",
       "      <td>Y</td>\n",
       "    </tr>\n",
       "    <tr>\n",
       "      <th>3</th>\n",
       "      <td>LP001006</td>\n",
       "      <td>0.0</td>\n",
       "      <td>Yes</td>\n",
       "      <td>0</td>\n",
       "      <td>Not Graduate</td>\n",
       "      <td>No</td>\n",
       "      <td>2583</td>\n",
       "      <td>2358.0</td>\n",
       "      <td>120.0</td>\n",
       "      <td>360.0</td>\n",
       "      <td>1.0</td>\n",
       "      <td>Urban</td>\n",
       "      <td>Y</td>\n",
       "    </tr>\n",
       "    <tr>\n",
       "      <th>4</th>\n",
       "      <td>LP001008</td>\n",
       "      <td>0.0</td>\n",
       "      <td>No</td>\n",
       "      <td>0</td>\n",
       "      <td>Graduate</td>\n",
       "      <td>No</td>\n",
       "      <td>6000</td>\n",
       "      <td>0.0</td>\n",
       "      <td>141.0</td>\n",
       "      <td>360.0</td>\n",
       "      <td>1.0</td>\n",
       "      <td>Urban</td>\n",
       "      <td>Y</td>\n",
       "    </tr>\n",
       "    <tr>\n",
       "      <th>...</th>\n",
       "      <td>...</td>\n",
       "      <td>...</td>\n",
       "      <td>...</td>\n",
       "      <td>...</td>\n",
       "      <td>...</td>\n",
       "      <td>...</td>\n",
       "      <td>...</td>\n",
       "      <td>...</td>\n",
       "      <td>...</td>\n",
       "      <td>...</td>\n",
       "      <td>...</td>\n",
       "      <td>...</td>\n",
       "      <td>...</td>\n",
       "    </tr>\n",
       "    <tr>\n",
       "      <th>609</th>\n",
       "      <td>LP002978</td>\n",
       "      <td>1.0</td>\n",
       "      <td>No</td>\n",
       "      <td>0</td>\n",
       "      <td>Graduate</td>\n",
       "      <td>No</td>\n",
       "      <td>2900</td>\n",
       "      <td>0.0</td>\n",
       "      <td>71.0</td>\n",
       "      <td>360.0</td>\n",
       "      <td>1.0</td>\n",
       "      <td>Rural</td>\n",
       "      <td>Y</td>\n",
       "    </tr>\n",
       "    <tr>\n",
       "      <th>610</th>\n",
       "      <td>LP002979</td>\n",
       "      <td>0.0</td>\n",
       "      <td>Yes</td>\n",
       "      <td>3+</td>\n",
       "      <td>Graduate</td>\n",
       "      <td>No</td>\n",
       "      <td>4106</td>\n",
       "      <td>0.0</td>\n",
       "      <td>40.0</td>\n",
       "      <td>180.0</td>\n",
       "      <td>1.0</td>\n",
       "      <td>Rural</td>\n",
       "      <td>Y</td>\n",
       "    </tr>\n",
       "    <tr>\n",
       "      <th>611</th>\n",
       "      <td>LP002983</td>\n",
       "      <td>0.0</td>\n",
       "      <td>Yes</td>\n",
       "      <td>1</td>\n",
       "      <td>Graduate</td>\n",
       "      <td>No</td>\n",
       "      <td>8072</td>\n",
       "      <td>240.0</td>\n",
       "      <td>253.0</td>\n",
       "      <td>360.0</td>\n",
       "      <td>1.0</td>\n",
       "      <td>Urban</td>\n",
       "      <td>Y</td>\n",
       "    </tr>\n",
       "    <tr>\n",
       "      <th>612</th>\n",
       "      <td>LP002984</td>\n",
       "      <td>0.0</td>\n",
       "      <td>Yes</td>\n",
       "      <td>2</td>\n",
       "      <td>Graduate</td>\n",
       "      <td>No</td>\n",
       "      <td>7583</td>\n",
       "      <td>0.0</td>\n",
       "      <td>187.0</td>\n",
       "      <td>360.0</td>\n",
       "      <td>1.0</td>\n",
       "      <td>Urban</td>\n",
       "      <td>Y</td>\n",
       "    </tr>\n",
       "    <tr>\n",
       "      <th>613</th>\n",
       "      <td>LP002990</td>\n",
       "      <td>1.0</td>\n",
       "      <td>No</td>\n",
       "      <td>0</td>\n",
       "      <td>Graduate</td>\n",
       "      <td>Yes</td>\n",
       "      <td>4583</td>\n",
       "      <td>0.0</td>\n",
       "      <td>133.0</td>\n",
       "      <td>360.0</td>\n",
       "      <td>0.0</td>\n",
       "      <td>Semiurban</td>\n",
       "      <td>N</td>\n",
       "    </tr>\n",
       "  </tbody>\n",
       "</table>\n",
       "<p>614 rows × 13 columns</p>\n",
       "</div>"
      ],
      "text/plain": [
       "      Loan_ID  Gender Married Dependents     Education Self_Employed  \\\n",
       "0    LP001002     0.0      No          0      Graduate            No   \n",
       "1    LP001003     0.0     Yes          1      Graduate            No   \n",
       "2    LP001005     0.0     Yes          0      Graduate           Yes   \n",
       "3    LP001006     0.0     Yes          0  Not Graduate            No   \n",
       "4    LP001008     0.0      No          0      Graduate            No   \n",
       "..        ...     ...     ...        ...           ...           ...   \n",
       "609  LP002978     1.0      No          0      Graduate            No   \n",
       "610  LP002979     0.0     Yes         3+      Graduate            No   \n",
       "611  LP002983     0.0     Yes          1      Graduate            No   \n",
       "612  LP002984     0.0     Yes          2      Graduate            No   \n",
       "613  LP002990     1.0      No          0      Graduate           Yes   \n",
       "\n",
       "     ApplicantIncome  CoapplicantIncome  LoanAmount  Loan_Amount_Term  \\\n",
       "0               5849                0.0         NaN             360.0   \n",
       "1               4583             1508.0       128.0             360.0   \n",
       "2               3000                0.0        66.0             360.0   \n",
       "3               2583             2358.0       120.0             360.0   \n",
       "4               6000                0.0       141.0             360.0   \n",
       "..               ...                ...         ...               ...   \n",
       "609             2900                0.0        71.0             360.0   \n",
       "610             4106                0.0        40.0             180.0   \n",
       "611             8072              240.0       253.0             360.0   \n",
       "612             7583                0.0       187.0             360.0   \n",
       "613             4583                0.0       133.0             360.0   \n",
       "\n",
       "     Credit_History Property_Area Loan_Status  \n",
       "0               1.0         Urban           Y  \n",
       "1               1.0         Rural           N  \n",
       "2               1.0         Urban           Y  \n",
       "3               1.0         Urban           Y  \n",
       "4               1.0         Urban           Y  \n",
       "..              ...           ...         ...  \n",
       "609             1.0         Rural           Y  \n",
       "610             1.0         Rural           Y  \n",
       "611             1.0         Urban           Y  \n",
       "612             1.0         Urban           Y  \n",
       "613             0.0     Semiurban           N  \n",
       "\n",
       "[614 rows x 13 columns]"
      ]
     },
     "execution_count": 9,
     "metadata": {},
     "output_type": "execute_result"
    }
   ],
   "source": [
    "df['Gender']=df['Gender'].replace(['Female','Male'],[1,0])\n",
    "\n",
    "df"
   ]
  },
  {
   "cell_type": "code",
   "execution_count": 10,
   "metadata": {},
   "outputs": [],
   "source": [
    "df['Gender']=df['Gender'].replace([np.nan],0)"
   ]
  },
  {
   "cell_type": "code",
   "execution_count": 11,
   "metadata": {},
   "outputs": [
    {
     "data": {
      "text/plain": [
       "0"
      ]
     },
     "execution_count": 11,
     "metadata": {},
     "output_type": "execute_result"
    }
   ],
   "source": [
    "df.Gender.isnull().sum()"
   ]
  },
  {
   "cell_type": "code",
   "execution_count": 12,
   "metadata": {},
   "outputs": [
    {
     "data": {
      "text/plain": [
       "array(['No', 'Yes', nan], dtype=object)"
      ]
     },
     "execution_count": 12,
     "metadata": {},
     "output_type": "execute_result"
    }
   ],
   "source": [
    "df['Married'].unique()"
   ]
  },
  {
   "cell_type": "code",
   "execution_count": 13,
   "metadata": {},
   "outputs": [],
   "source": [
    "df['Married']=df['Married'].replace(['No','Yes'],[0,1])\n",
    "\n",
    "df['Married']=df['Married'].replace([np.nan],0)\n",
    "\n",
    "\n"
   ]
  },
  {
   "cell_type": "code",
   "execution_count": 14,
   "metadata": {},
   "outputs": [
    {
     "data": {
      "text/plain": [
       "0"
      ]
     },
     "execution_count": 14,
     "metadata": {},
     "output_type": "execute_result"
    }
   ],
   "source": [
    "df['Married'].isnull().sum()"
   ]
  },
  {
   "cell_type": "code",
   "execution_count": 15,
   "metadata": {},
   "outputs": [
    {
     "data": {
      "text/plain": [
       "array(['0', '1', '2', '3+', nan], dtype=object)"
      ]
     },
     "execution_count": 15,
     "metadata": {},
     "output_type": "execute_result"
    }
   ],
   "source": [
    "df['Dependents'].unique()"
   ]
  },
  {
   "cell_type": "code",
   "execution_count": 16,
   "metadata": {},
   "outputs": [],
   "source": [
    "df['Dependents']=df['Dependents'].replace(['0','1','2','3+',np.nan],[0,1,2,3,0])"
   ]
  },
  {
   "cell_type": "code",
   "execution_count": 17,
   "metadata": {},
   "outputs": [
    {
     "data": {
      "text/plain": [
       "0    0\n",
       "1    1\n",
       "2    0\n",
       "3    0\n",
       "4    0\n",
       "Name: Dependents, dtype: int64"
      ]
     },
     "execution_count": 17,
     "metadata": {},
     "output_type": "execute_result"
    }
   ],
   "source": [
    "df['Dependents'].head()"
   ]
  },
  {
   "cell_type": "code",
   "execution_count": 18,
   "metadata": {},
   "outputs": [
    {
     "data": {
      "text/plain": [
       "0"
      ]
     },
     "execution_count": 18,
     "metadata": {},
     "output_type": "execute_result"
    }
   ],
   "source": [
    "df['Dependents'].isnull().sum()"
   ]
  },
  {
   "cell_type": "code",
   "execution_count": 19,
   "metadata": {},
   "outputs": [
    {
     "data": {
      "text/plain": [
       "array(['No', 'Yes', nan], dtype=object)"
      ]
     },
     "execution_count": 19,
     "metadata": {},
     "output_type": "execute_result"
    }
   ],
   "source": [
    "df['Self_Employed'].unique()"
   ]
  },
  {
   "cell_type": "code",
   "execution_count": 20,
   "metadata": {},
   "outputs": [],
   "source": [
    "df['Self_Employed']=df['Self_Employed'].replace(['No', 'Yes'],[0,1])\n",
    "df['Self_Employed']=df['Self_Employed'].replace([np.nan],0)"
   ]
  },
  {
   "cell_type": "code",
   "execution_count": 21,
   "metadata": {},
   "outputs": [
    {
     "data": {
      "text/plain": [
       "0"
      ]
     },
     "execution_count": 21,
     "metadata": {},
     "output_type": "execute_result"
    }
   ],
   "source": [
    "df['Self_Employed'].isnull().sum()"
   ]
  },
  {
   "cell_type": "code",
   "execution_count": 22,
   "metadata": {},
   "outputs": [
    {
     "data": {
      "text/plain": [
       "array([ nan, 128.,  66., 120., 141., 267.,  95., 158., 168., 349.,  70.,\n",
       "       109., 200., 114.,  17., 125., 100.,  76., 133., 115., 104., 315.,\n",
       "       116., 112., 151., 191., 122., 110.,  35., 201.,  74., 106., 320.,\n",
       "       144., 184.,  80.,  47.,  75., 134.,  96.,  88.,  44., 286.,  97.,\n",
       "       135., 180.,  99., 165., 258., 126., 312., 136., 172.,  81., 187.,\n",
       "       113., 176., 130., 111., 167., 265.,  50., 210., 175., 131., 188.,\n",
       "        25., 137., 160., 225., 216.,  94., 139., 152., 118., 185., 154.,\n",
       "        85., 259., 194.,  93., 370., 182., 650., 102., 290.,  84., 242.,\n",
       "       129.,  30., 244., 600., 255.,  98., 275., 121.,  63., 700.,  87.,\n",
       "       101., 495.,  67.,  73., 260., 108.,  58.,  48., 164., 170.,  83.,\n",
       "        90., 166., 124.,  55.,  59., 127., 214., 240.,  72.,  60., 138.,\n",
       "        42., 280., 140., 155., 123., 279., 192., 304., 330., 150., 207.,\n",
       "       436.,  78.,  54.,  89., 143., 105., 132., 480.,  56., 159., 300.,\n",
       "       376., 117.,  71., 490., 173.,  46., 228., 308., 236., 570., 380.,\n",
       "       296., 156., 103.,  45.,  65.,  53., 360.,  62., 218., 178., 239.,\n",
       "       405., 148., 190., 149., 153., 162., 230.,  86., 234., 246., 500.,\n",
       "       186., 119., 107., 209., 208., 243.,  40., 250., 311., 400., 161.,\n",
       "       196., 324., 157., 145., 181.,  26., 211.,   9., 205.,  36.,  61.,\n",
       "       146., 292., 142., 350., 496., 253.])"
      ]
     },
     "execution_count": 22,
     "metadata": {},
     "output_type": "execute_result"
    }
   ],
   "source": [
    "df['LoanAmount'].unique()"
   ]
  },
  {
   "cell_type": "code",
   "execution_count": 23,
   "metadata": {},
   "outputs": [
    {
     "data": {
      "text/plain": [
       "0"
      ]
     },
     "execution_count": 23,
     "metadata": {},
     "output_type": "execute_result"
    }
   ],
   "source": [
    "df['LoanAmount']=df['LoanAmount'].replace([np.nan],0)\n",
    "df['LoanAmount'].isnull().sum()"
   ]
  },
  {
   "cell_type": "code",
   "execution_count": 24,
   "metadata": {},
   "outputs": [
    {
     "data": {
      "text/plain": [
       "array([360., 120., 240.,  nan, 180.,  60., 300., 480.,  36.,  84.,  12.])"
      ]
     },
     "execution_count": 24,
     "metadata": {},
     "output_type": "execute_result"
    }
   ],
   "source": [
    "df['Loan_Amount_Term'].unique()"
   ]
  },
  {
   "cell_type": "code",
   "execution_count": 25,
   "metadata": {},
   "outputs": [],
   "source": [
    "df['Loan_Amount_Term']=df['Loan_Amount_Term'].fillna(method='ffill')"
   ]
  },
  {
   "cell_type": "code",
   "execution_count": 26,
   "metadata": {},
   "outputs": [
    {
     "data": {
      "text/plain": [
       "array([360., 120., 240., 180.,  60., 300., 480.,  36.,  84.,  12.])"
      ]
     },
     "execution_count": 26,
     "metadata": {},
     "output_type": "execute_result"
    }
   ],
   "source": [
    "df['Loan_Amount_Term'].unique()"
   ]
  },
  {
   "cell_type": "code",
   "execution_count": 27,
   "metadata": {},
   "outputs": [
    {
     "data": {
      "text/plain": [
       "array([ 1.,  0., nan])"
      ]
     },
     "execution_count": 27,
     "metadata": {},
     "output_type": "execute_result"
    }
   ],
   "source": [
    "df['Credit_History'].unique()"
   ]
  },
  {
   "cell_type": "code",
   "execution_count": 28,
   "metadata": {},
   "outputs": [],
   "source": [
    "df['Credit_History']=df['Credit_History'].replace([np.nan],0)"
   ]
  },
  {
   "cell_type": "code",
   "execution_count": 29,
   "metadata": {},
   "outputs": [
    {
     "data": {
      "text/plain": [
       "0"
      ]
     },
     "execution_count": 29,
     "metadata": {},
     "output_type": "execute_result"
    }
   ],
   "source": [
    "df['Credit_History'].isnull().sum()"
   ]
  },
  {
   "cell_type": "code",
   "execution_count": 30,
   "metadata": {},
   "outputs": [
    {
     "data": {
      "text/html": [
       "<div>\n",
       "<style scoped>\n",
       "    .dataframe tbody tr th:only-of-type {\n",
       "        vertical-align: middle;\n",
       "    }\n",
       "\n",
       "    .dataframe tbody tr th {\n",
       "        vertical-align: top;\n",
       "    }\n",
       "\n",
       "    .dataframe thead th {\n",
       "        text-align: right;\n",
       "    }\n",
       "</style>\n",
       "<table border=\"1\" class=\"dataframe\">\n",
       "  <thead>\n",
       "    <tr style=\"text-align: right;\">\n",
       "      <th></th>\n",
       "      <th>Loan_ID</th>\n",
       "      <th>Gender</th>\n",
       "      <th>Married</th>\n",
       "      <th>Dependents</th>\n",
       "      <th>Education</th>\n",
       "      <th>Self_Employed</th>\n",
       "      <th>ApplicantIncome</th>\n",
       "      <th>CoapplicantIncome</th>\n",
       "      <th>LoanAmount</th>\n",
       "      <th>Loan_Amount_Term</th>\n",
       "      <th>Credit_History</th>\n",
       "      <th>Property_Area</th>\n",
       "      <th>Loan_Status</th>\n",
       "    </tr>\n",
       "  </thead>\n",
       "  <tbody>\n",
       "    <tr>\n",
       "      <th>0</th>\n",
       "      <td>LP001002</td>\n",
       "      <td>0.0</td>\n",
       "      <td>0.0</td>\n",
       "      <td>0</td>\n",
       "      <td>Graduate</td>\n",
       "      <td>0.0</td>\n",
       "      <td>5849</td>\n",
       "      <td>0.0</td>\n",
       "      <td>0.0</td>\n",
       "      <td>360.0</td>\n",
       "      <td>1.0</td>\n",
       "      <td>Urban</td>\n",
       "      <td>Y</td>\n",
       "    </tr>\n",
       "    <tr>\n",
       "      <th>1</th>\n",
       "      <td>LP001003</td>\n",
       "      <td>0.0</td>\n",
       "      <td>1.0</td>\n",
       "      <td>1</td>\n",
       "      <td>Graduate</td>\n",
       "      <td>0.0</td>\n",
       "      <td>4583</td>\n",
       "      <td>1508.0</td>\n",
       "      <td>128.0</td>\n",
       "      <td>360.0</td>\n",
       "      <td>1.0</td>\n",
       "      <td>Rural</td>\n",
       "      <td>N</td>\n",
       "    </tr>\n",
       "    <tr>\n",
       "      <th>2</th>\n",
       "      <td>LP001005</td>\n",
       "      <td>0.0</td>\n",
       "      <td>1.0</td>\n",
       "      <td>0</td>\n",
       "      <td>Graduate</td>\n",
       "      <td>1.0</td>\n",
       "      <td>3000</td>\n",
       "      <td>0.0</td>\n",
       "      <td>66.0</td>\n",
       "      <td>360.0</td>\n",
       "      <td>1.0</td>\n",
       "      <td>Urban</td>\n",
       "      <td>Y</td>\n",
       "    </tr>\n",
       "    <tr>\n",
       "      <th>3</th>\n",
       "      <td>LP001006</td>\n",
       "      <td>0.0</td>\n",
       "      <td>1.0</td>\n",
       "      <td>0</td>\n",
       "      <td>Not Graduate</td>\n",
       "      <td>0.0</td>\n",
       "      <td>2583</td>\n",
       "      <td>2358.0</td>\n",
       "      <td>120.0</td>\n",
       "      <td>360.0</td>\n",
       "      <td>1.0</td>\n",
       "      <td>Urban</td>\n",
       "      <td>Y</td>\n",
       "    </tr>\n",
       "    <tr>\n",
       "      <th>4</th>\n",
       "      <td>LP001008</td>\n",
       "      <td>0.0</td>\n",
       "      <td>0.0</td>\n",
       "      <td>0</td>\n",
       "      <td>Graduate</td>\n",
       "      <td>0.0</td>\n",
       "      <td>6000</td>\n",
       "      <td>0.0</td>\n",
       "      <td>141.0</td>\n",
       "      <td>360.0</td>\n",
       "      <td>1.0</td>\n",
       "      <td>Urban</td>\n",
       "      <td>Y</td>\n",
       "    </tr>\n",
       "  </tbody>\n",
       "</table>\n",
       "</div>"
      ],
      "text/plain": [
       "    Loan_ID  Gender  Married  Dependents     Education  Self_Employed  \\\n",
       "0  LP001002     0.0      0.0           0      Graduate            0.0   \n",
       "1  LP001003     0.0      1.0           1      Graduate            0.0   \n",
       "2  LP001005     0.0      1.0           0      Graduate            1.0   \n",
       "3  LP001006     0.0      1.0           0  Not Graduate            0.0   \n",
       "4  LP001008     0.0      0.0           0      Graduate            0.0   \n",
       "\n",
       "   ApplicantIncome  CoapplicantIncome  LoanAmount  Loan_Amount_Term  \\\n",
       "0             5849                0.0         0.0             360.0   \n",
       "1             4583             1508.0       128.0             360.0   \n",
       "2             3000                0.0        66.0             360.0   \n",
       "3             2583             2358.0       120.0             360.0   \n",
       "4             6000                0.0       141.0             360.0   \n",
       "\n",
       "   Credit_History Property_Area Loan_Status  \n",
       "0             1.0         Urban           Y  \n",
       "1             1.0         Rural           N  \n",
       "2             1.0         Urban           Y  \n",
       "3             1.0         Urban           Y  \n",
       "4             1.0         Urban           Y  "
      ]
     },
     "execution_count": 30,
     "metadata": {},
     "output_type": "execute_result"
    }
   ],
   "source": [
    "df.head()"
   ]
  },
  {
   "cell_type": "code",
   "execution_count": 31,
   "metadata": {},
   "outputs": [],
   "source": [
    "from sklearn.preprocessing import LabelEncoder\n",
    "le=LabelEncoder()\n",
    "df['Education']=le.fit_transform(df['Education'])"
   ]
  },
  {
   "cell_type": "code",
   "execution_count": 32,
   "metadata": {},
   "outputs": [
    {
     "data": {
      "text/plain": [
       "array([0, 1])"
      ]
     },
     "execution_count": 32,
     "metadata": {},
     "output_type": "execute_result"
    }
   ],
   "source": [
    "df['Education'].unique()"
   ]
  },
  {
   "cell_type": "code",
   "execution_count": 33,
   "metadata": {},
   "outputs": [],
   "source": [
    "df['Property_Area']=le.fit_transform(df['Property_Area'])"
   ]
  },
  {
   "cell_type": "code",
   "execution_count": 34,
   "metadata": {},
   "outputs": [
    {
     "data": {
      "text/plain": [
       "array([2, 0, 1])"
      ]
     },
     "execution_count": 34,
     "metadata": {},
     "output_type": "execute_result"
    }
   ],
   "source": [
    "df['Property_Area'].unique()"
   ]
  },
  {
   "cell_type": "code",
   "execution_count": 35,
   "metadata": {},
   "outputs": [
    {
     "data": {
      "text/plain": [
       "Loan_ID              0\n",
       "Gender               0\n",
       "Married              0\n",
       "Dependents           0\n",
       "Education            0\n",
       "Self_Employed        0\n",
       "ApplicantIncome      0\n",
       "CoapplicantIncome    0\n",
       "LoanAmount           0\n",
       "Loan_Amount_Term     0\n",
       "Credit_History       0\n",
       "Property_Area        0\n",
       "Loan_Status          0\n",
       "dtype: int64"
      ]
     },
     "execution_count": 35,
     "metadata": {},
     "output_type": "execute_result"
    }
   ],
   "source": [
    "df.isnull().sum()"
   ]
  },
  {
   "cell_type": "code",
   "execution_count": 36,
   "metadata": {},
   "outputs": [],
   "source": [
    "df['Loan_Status']=le.fit_transform(df['Loan_Status'])"
   ]
  },
  {
   "cell_type": "code",
   "execution_count": 37,
   "metadata": {},
   "outputs": [
    {
     "data": {
      "text/plain": [
       "array([1, 0])"
      ]
     },
     "execution_count": 37,
     "metadata": {},
     "output_type": "execute_result"
    }
   ],
   "source": [
    "df['Loan_Status'].unique()"
   ]
  },
  {
   "cell_type": "code",
   "execution_count": 38,
   "metadata": {
    "scrolled": false
   },
   "outputs": [
    {
     "data": {
      "text/html": [
       "<div>\n",
       "<style scoped>\n",
       "    .dataframe tbody tr th:only-of-type {\n",
       "        vertical-align: middle;\n",
       "    }\n",
       "\n",
       "    .dataframe tbody tr th {\n",
       "        vertical-align: top;\n",
       "    }\n",
       "\n",
       "    .dataframe thead th {\n",
       "        text-align: right;\n",
       "    }\n",
       "</style>\n",
       "<table border=\"1\" class=\"dataframe\">\n",
       "  <thead>\n",
       "    <tr style=\"text-align: right;\">\n",
       "      <th></th>\n",
       "      <th>Loan_ID</th>\n",
       "      <th>Gender</th>\n",
       "      <th>Married</th>\n",
       "      <th>Dependents</th>\n",
       "      <th>Education</th>\n",
       "      <th>Self_Employed</th>\n",
       "      <th>ApplicantIncome</th>\n",
       "      <th>CoapplicantIncome</th>\n",
       "      <th>LoanAmount</th>\n",
       "      <th>Loan_Amount_Term</th>\n",
       "      <th>Credit_History</th>\n",
       "      <th>Property_Area</th>\n",
       "      <th>Loan_Status</th>\n",
       "    </tr>\n",
       "  </thead>\n",
       "  <tbody>\n",
       "    <tr>\n",
       "      <th>0</th>\n",
       "      <td>LP001002</td>\n",
       "      <td>0.0</td>\n",
       "      <td>0.0</td>\n",
       "      <td>0</td>\n",
       "      <td>0</td>\n",
       "      <td>0.0</td>\n",
       "      <td>5849</td>\n",
       "      <td>0.0</td>\n",
       "      <td>0.0</td>\n",
       "      <td>360.0</td>\n",
       "      <td>1.0</td>\n",
       "      <td>2</td>\n",
       "      <td>1</td>\n",
       "    </tr>\n",
       "    <tr>\n",
       "      <th>1</th>\n",
       "      <td>LP001003</td>\n",
       "      <td>0.0</td>\n",
       "      <td>1.0</td>\n",
       "      <td>1</td>\n",
       "      <td>0</td>\n",
       "      <td>0.0</td>\n",
       "      <td>4583</td>\n",
       "      <td>1508.0</td>\n",
       "      <td>128.0</td>\n",
       "      <td>360.0</td>\n",
       "      <td>1.0</td>\n",
       "      <td>0</td>\n",
       "      <td>0</td>\n",
       "    </tr>\n",
       "    <tr>\n",
       "      <th>2</th>\n",
       "      <td>LP001005</td>\n",
       "      <td>0.0</td>\n",
       "      <td>1.0</td>\n",
       "      <td>0</td>\n",
       "      <td>0</td>\n",
       "      <td>1.0</td>\n",
       "      <td>3000</td>\n",
       "      <td>0.0</td>\n",
       "      <td>66.0</td>\n",
       "      <td>360.0</td>\n",
       "      <td>1.0</td>\n",
       "      <td>2</td>\n",
       "      <td>1</td>\n",
       "    </tr>\n",
       "    <tr>\n",
       "      <th>3</th>\n",
       "      <td>LP001006</td>\n",
       "      <td>0.0</td>\n",
       "      <td>1.0</td>\n",
       "      <td>0</td>\n",
       "      <td>1</td>\n",
       "      <td>0.0</td>\n",
       "      <td>2583</td>\n",
       "      <td>2358.0</td>\n",
       "      <td>120.0</td>\n",
       "      <td>360.0</td>\n",
       "      <td>1.0</td>\n",
       "      <td>2</td>\n",
       "      <td>1</td>\n",
       "    </tr>\n",
       "    <tr>\n",
       "      <th>4</th>\n",
       "      <td>LP001008</td>\n",
       "      <td>0.0</td>\n",
       "      <td>0.0</td>\n",
       "      <td>0</td>\n",
       "      <td>0</td>\n",
       "      <td>0.0</td>\n",
       "      <td>6000</td>\n",
       "      <td>0.0</td>\n",
       "      <td>141.0</td>\n",
       "      <td>360.0</td>\n",
       "      <td>1.0</td>\n",
       "      <td>2</td>\n",
       "      <td>1</td>\n",
       "    </tr>\n",
       "  </tbody>\n",
       "</table>\n",
       "</div>"
      ],
      "text/plain": [
       "    Loan_ID  Gender  Married  Dependents  Education  Self_Employed  \\\n",
       "0  LP001002     0.0      0.0           0          0            0.0   \n",
       "1  LP001003     0.0      1.0           1          0            0.0   \n",
       "2  LP001005     0.0      1.0           0          0            1.0   \n",
       "3  LP001006     0.0      1.0           0          1            0.0   \n",
       "4  LP001008     0.0      0.0           0          0            0.0   \n",
       "\n",
       "   ApplicantIncome  CoapplicantIncome  LoanAmount  Loan_Amount_Term  \\\n",
       "0             5849                0.0         0.0             360.0   \n",
       "1             4583             1508.0       128.0             360.0   \n",
       "2             3000                0.0        66.0             360.0   \n",
       "3             2583             2358.0       120.0             360.0   \n",
       "4             6000                0.0       141.0             360.0   \n",
       "\n",
       "   Credit_History  Property_Area  Loan_Status  \n",
       "0             1.0              2            1  \n",
       "1             1.0              0            0  \n",
       "2             1.0              2            1  \n",
       "3             1.0              2            1  \n",
       "4             1.0              2            1  "
      ]
     },
     "execution_count": 38,
     "metadata": {},
     "output_type": "execute_result"
    }
   ],
   "source": [
    "df.head()"
   ]
  },
  {
   "cell_type": "raw",
   "metadata": {},
   "source": [
    "******************Data is cleaned(no null values) and no categorical variables************************"
   ]
  },
  {
   "cell_type": "code",
   "execution_count": 39,
   "metadata": {},
   "outputs": [
    {
     "data": {
      "text/plain": [
       "<seaborn.axisgrid.FacetGrid at 0x2c6cac4cb80>"
      ]
     },
     "execution_count": 39,
     "metadata": {},
     "output_type": "execute_result"
    },
    {
     "data": {
      "image/png": "[encoded data removed]",
      "text/plain": [
       "<Figure size 438.5x360 with 1 Axes>"
      ]
     },
     "metadata": {
      "needs_background": "light"
     },
     "output_type": "display_data"
    }
   ],
   "source": [
    "import seaborn as sns\n",
    "sns.relplot(x='ApplicantIncome',y='LoanAmount',hue=\"Credit_History\",data=df)\n"
   ]
  },
  {
   "cell_type": "code",
   "execution_count": 40,
   "metadata": {},
   "outputs": [],
   "source": [
    "X=df[[\"Gender\", \"Married\", \"Dependents\", \"Education\", \"Self_Employed\", \"ApplicantIncome\",\"CoapplicantIncome\" , \"LoanAmount\", \"Loan_Amount_Term\", \"Credit_History\", \"Property_Area\"]]\n",
    "y=df[\"Loan_Status\"]"
   ]
  },
  {
   "cell_type": "code",
   "execution_count": 41,
   "metadata": {},
   "outputs": [],
   "source": [
    "from sklearn.model_selection import train_test_split\n",
    "X_train,X_test,y_train,y_test=train_test_split(X,y,test_size=0.3,random_state=42)"
   ]
  },
  {
   "cell_type": "code",
   "execution_count": 42,
   "metadata": {},
   "outputs": [
    {
     "data": {
      "text/html": [
       "<div>\n",
       "<style scoped>\n",
       "    .dataframe tbody tr th:only-of-type {\n",
       "        vertical-align: middle;\n",
       "    }\n",
       "\n",
       "    .dataframe tbody tr th {\n",
       "        vertical-align: top;\n",
       "    }\n",
       "\n",
       "    .dataframe thead th {\n",
       "        text-align: right;\n",
       "    }\n",
       "</style>\n",
       "<table border=\"1\" class=\"dataframe\">\n",
       "  <thead>\n",
       "    <tr style=\"text-align: right;\">\n",
       "      <th></th>\n",
       "      <th>Gender</th>\n",
       "      <th>Married</th>\n",
       "      <th>Dependents</th>\n",
       "      <th>Education</th>\n",
       "      <th>Self_Employed</th>\n",
       "      <th>ApplicantIncome</th>\n",
       "      <th>CoapplicantIncome</th>\n",
       "      <th>LoanAmount</th>\n",
       "      <th>Loan_Amount_Term</th>\n",
       "      <th>Credit_History</th>\n",
       "      <th>Property_Area</th>\n",
       "    </tr>\n",
       "  </thead>\n",
       "  <tbody>\n",
       "    <tr>\n",
       "      <th>553</th>\n",
       "      <td>0.0</td>\n",
       "      <td>1.0</td>\n",
       "      <td>0</td>\n",
       "      <td>1</td>\n",
       "      <td>0.0</td>\n",
       "      <td>2454</td>\n",
       "      <td>2333.0</td>\n",
       "      <td>181.0</td>\n",
       "      <td>360.0</td>\n",
       "      <td>0.0</td>\n",
       "      <td>2</td>\n",
       "    </tr>\n",
       "    <tr>\n",
       "      <th>601</th>\n",
       "      <td>0.0</td>\n",
       "      <td>1.0</td>\n",
       "      <td>0</td>\n",
       "      <td>1</td>\n",
       "      <td>0.0</td>\n",
       "      <td>2894</td>\n",
       "      <td>2792.0</td>\n",
       "      <td>155.0</td>\n",
       "      <td>360.0</td>\n",
       "      <td>1.0</td>\n",
       "      <td>0</td>\n",
       "    </tr>\n",
       "    <tr>\n",
       "      <th>261</th>\n",
       "      <td>0.0</td>\n",
       "      <td>0.0</td>\n",
       "      <td>0</td>\n",
       "      <td>0</td>\n",
       "      <td>0.0</td>\n",
       "      <td>2060</td>\n",
       "      <td>2209.0</td>\n",
       "      <td>134.0</td>\n",
       "      <td>360.0</td>\n",
       "      <td>1.0</td>\n",
       "      <td>1</td>\n",
       "    </tr>\n",
       "    <tr>\n",
       "      <th>496</th>\n",
       "      <td>0.0</td>\n",
       "      <td>1.0</td>\n",
       "      <td>0</td>\n",
       "      <td>1</td>\n",
       "      <td>0.0</td>\n",
       "      <td>2600</td>\n",
       "      <td>1700.0</td>\n",
       "      <td>107.0</td>\n",
       "      <td>360.0</td>\n",
       "      <td>1.0</td>\n",
       "      <td>0</td>\n",
       "    </tr>\n",
       "    <tr>\n",
       "      <th>529</th>\n",
       "      <td>0.0</td>\n",
       "      <td>0.0</td>\n",
       "      <td>0</td>\n",
       "      <td>1</td>\n",
       "      <td>0.0</td>\n",
       "      <td>6783</td>\n",
       "      <td>0.0</td>\n",
       "      <td>130.0</td>\n",
       "      <td>360.0</td>\n",
       "      <td>1.0</td>\n",
       "      <td>1</td>\n",
       "    </tr>\n",
       "    <tr>\n",
       "      <th>...</th>\n",
       "      <td>...</td>\n",
       "      <td>...</td>\n",
       "      <td>...</td>\n",
       "      <td>...</td>\n",
       "      <td>...</td>\n",
       "      <td>...</td>\n",
       "      <td>...</td>\n",
       "      <td>...</td>\n",
       "      <td>...</td>\n",
       "      <td>...</td>\n",
       "      <td>...</td>\n",
       "    </tr>\n",
       "    <tr>\n",
       "      <th>71</th>\n",
       "      <td>0.0</td>\n",
       "      <td>1.0</td>\n",
       "      <td>2</td>\n",
       "      <td>1</td>\n",
       "      <td>1.0</td>\n",
       "      <td>1875</td>\n",
       "      <td>1875.0</td>\n",
       "      <td>97.0</td>\n",
       "      <td>360.0</td>\n",
       "      <td>1.0</td>\n",
       "      <td>1</td>\n",
       "    </tr>\n",
       "    <tr>\n",
       "      <th>106</th>\n",
       "      <td>0.0</td>\n",
       "      <td>1.0</td>\n",
       "      <td>2</td>\n",
       "      <td>0</td>\n",
       "      <td>0.0</td>\n",
       "      <td>11417</td>\n",
       "      <td>1126.0</td>\n",
       "      <td>225.0</td>\n",
       "      <td>360.0</td>\n",
       "      <td>1.0</td>\n",
       "      <td>2</td>\n",
       "    </tr>\n",
       "    <tr>\n",
       "      <th>270</th>\n",
       "      <td>1.0</td>\n",
       "      <td>0.0</td>\n",
       "      <td>0</td>\n",
       "      <td>0</td>\n",
       "      <td>0.0</td>\n",
       "      <td>3237</td>\n",
       "      <td>0.0</td>\n",
       "      <td>30.0</td>\n",
       "      <td>360.0</td>\n",
       "      <td>1.0</td>\n",
       "      <td>2</td>\n",
       "    </tr>\n",
       "    <tr>\n",
       "      <th>435</th>\n",
       "      <td>1.0</td>\n",
       "      <td>0.0</td>\n",
       "      <td>0</td>\n",
       "      <td>0</td>\n",
       "      <td>0.0</td>\n",
       "      <td>10047</td>\n",
       "      <td>0.0</td>\n",
       "      <td>0.0</td>\n",
       "      <td>240.0</td>\n",
       "      <td>1.0</td>\n",
       "      <td>1</td>\n",
       "    </tr>\n",
       "    <tr>\n",
       "      <th>102</th>\n",
       "      <td>0.0</td>\n",
       "      <td>1.0</td>\n",
       "      <td>0</td>\n",
       "      <td>0</td>\n",
       "      <td>0.0</td>\n",
       "      <td>13650</td>\n",
       "      <td>0.0</td>\n",
       "      <td>0.0</td>\n",
       "      <td>360.0</td>\n",
       "      <td>1.0</td>\n",
       "      <td>2</td>\n",
       "    </tr>\n",
       "  </tbody>\n",
       "</table>\n",
       "<p>429 rows × 11 columns</p>\n",
       "</div>"
      ],
      "text/plain": [
       "     Gender  Married  Dependents  Education  Self_Employed  ApplicantIncome  \\\n",
       "553     0.0      1.0           0          1            0.0             2454   \n",
       "601     0.0      1.0           0          1            0.0             2894   \n",
       "261     0.0      0.0           0          0            0.0             2060   \n",
       "496     0.0      1.0           0          1            0.0             2600   \n",
       "529     0.0      0.0           0          1            0.0             6783   \n",
       "..      ...      ...         ...        ...            ...              ...   \n",
       "71      0.0      1.0           2          1            1.0             1875   \n",
       "106     0.0      1.0           2          0            0.0            11417   \n",
       "270     1.0      0.0           0          0            0.0             3237   \n",
       "435     1.0      0.0           0          0            0.0            10047   \n",
       "102     0.0      1.0           0          0            0.0            13650   \n",
       "\n",
       "     CoapplicantIncome  LoanAmount  Loan_Amount_Term  Credit_History  \\\n",
       "553             2333.0       181.0             360.0             0.0   \n",
       "601             2792.0       155.0             360.0             1.0   \n",
       "261             2209.0       134.0             360.0             1.0   \n",
       "496             1700.0       107.0             360.0             1.0   \n",
       "529                0.0       130.0             360.0             1.0   \n",
       "..                 ...         ...               ...             ...   \n",
       "71              1875.0        97.0             360.0             1.0   \n",
       "106             1126.0       225.0             360.0             1.0   \n",
       "270                0.0        30.0             360.0             1.0   \n",
       "435                0.0         0.0             240.0             1.0   \n",
       "102                0.0         0.0             360.0             1.0   \n",
       "\n",
       "     Property_Area  \n",
       "553              2  \n",
       "601              0  \n",
       "261              1  \n",
       "496              0  \n",
       "529              1  \n",
       "..             ...  \n",
       "71               1  \n",
       "106              2  \n",
       "270              2  \n",
       "435              1  \n",
       "102              2  \n",
       "\n",
       "[429 rows x 11 columns]"
      ]
     },
     "execution_count": 42,
     "metadata": {},
     "output_type": "execute_result"
    }
   ],
   "source": [
    "X_train"
   ]
  },
  {
   "cell_type": "code",
   "execution_count": 43,
   "metadata": {},
   "outputs": [
    {
     "data": {
      "text/plain": [
       "553    0\n",
       "601    1\n",
       "261    1\n",
       "496    1\n",
       "529    1\n",
       "      ..\n",
       "71     1\n",
       "106    1\n",
       "270    1\n",
       "435    1\n",
       "102    1\n",
       "Name: Loan_Status, Length: 429, dtype: int32"
      ]
     },
     "execution_count": 43,
     "metadata": {},
     "output_type": "execute_result"
    }
   ],
   "source": [
    "y_train"
   ]
  },
  {
   "cell_type": "code",
   "execution_count": 44,
   "metadata": {},
   "outputs": [
    {
     "data": {
      "text/plain": [
       "DecisionTreeClassifier(random_state=3)"
      ]
     },
     "execution_count": 44,
     "metadata": {},
     "output_type": "execute_result"
    }
   ],
   "source": [
    "from sklearn.tree import DecisionTreeClassifier\n",
    "clf=DecisionTreeClassifier(random_state=3)\n",
    "clf"
   ]
  },
  {
   "cell_type": "code",
   "execution_count": 45,
   "metadata": {},
   "outputs": [
    {
     "data": {
      "text/plain": [
       "DecisionTreeClassifier(random_state=3)"
      ]
     },
     "execution_count": 45,
     "metadata": {},
     "output_type": "execute_result"
    }
   ],
   "source": [
    "clf.fit(X_train,y_train)"
   ]
  },
  {
   "cell_type": "code",
   "execution_count": 46,
   "metadata": {},
   "outputs": [],
   "source": [
    "y_pred=clf.predict(X_test)"
   ]
  },
  {
   "cell_type": "code",
   "execution_count": 47,
   "metadata": {},
   "outputs": [
    {
     "data": {
      "text/plain": [
       "array([0, 1, 1, 0, 1, 1, 1, 1, 1, 0, 0, 1, 1, 0, 1, 1, 1, 1, 1, 1, 0, 1,\n",
       "       0, 1, 1, 1, 1, 1, 1, 0, 1, 1, 1, 0, 0, 0, 0, 1, 1, 1, 1, 1, 1, 1,\n",
       "       1, 1, 0, 1, 0, 0, 0, 1, 1, 0, 1, 1, 1, 1, 0, 1, 1, 0, 0, 0, 1, 1,\n",
       "       1, 1, 0, 1, 0, 1, 1, 1, 0, 0, 1, 0, 0, 1, 0, 1, 1, 1, 1, 0, 1, 0,\n",
       "       1, 1, 1, 0, 1, 1, 0, 1, 0, 1, 1, 1, 1, 1, 1, 1, 1, 0, 1, 0, 1, 1,\n",
       "       0, 0, 1, 1, 0, 1, 1, 1, 0, 0, 1, 1, 1, 0, 1, 1, 1, 1, 0, 0, 0, 1,\n",
       "       1, 1, 1, 1, 1, 0, 1, 1, 1, 1, 0, 0, 1, 0, 1, 1, 1, 1, 1, 1, 1, 1,\n",
       "       1, 1, 1, 1, 0, 1, 0, 0, 0, 0, 1, 1, 1, 0, 0, 1, 1, 1, 1, 0, 1, 1,\n",
       "       1, 0, 0, 1, 1, 0, 1, 1, 0])"
      ]
     },
     "execution_count": 47,
     "metadata": {},
     "output_type": "execute_result"
    }
   ],
   "source": [
    "y_pred"
   ]
  },
  {
   "cell_type": "code",
   "execution_count": 48,
   "metadata": {},
   "outputs": [],
   "source": [
    "from sklearn.metrics import confusion_matrix \n",
    "cm=confusion_matrix(y_pred,y_test)"
   ]
  },
  {
   "cell_type": "code",
   "execution_count": 49,
   "metadata": {},
   "outputs": [
    {
     "data": {
      "text/plain": [
       "array([[35, 25],\n",
       "       [30, 95]], dtype=int64)"
      ]
     },
     "execution_count": 49,
     "metadata": {},
     "output_type": "execute_result"
    }
   ],
   "source": [
    "cm"
   ]
  },
  {
   "cell_type": "code",
   "execution_count": 50,
   "metadata": {},
   "outputs": [],
   "source": [
    "from sklearn.metrics import accuracy_score\n",
    "score=accuracy_score(y_pred,y_test)"
   ]
  },
  {
   "cell_type": "code",
   "execution_count": 51,
   "metadata": {},
   "outputs": [
    {
     "data": {
      "text/plain": [
       "0.7027027027027027"
      ]
     },
     "execution_count": 51,
     "metadata": {},
     "output_type": "execute_result"
    }
   ],
   "source": [
    "score"
   ]
  },
  {
   "cell_type": "code",
   "execution_count": 52,
   "metadata": {},
   "outputs": [
    {
     "data": {
      "text/plain": [
       "'digraph Tree {\\nnode [shape=box] ;\\n0 [label=\"X[9] <= 0.5\\\\ngini = 0.417\\\\nsamples = 429\\\\nvalue = [127, 302]\"] ;\\n1 [label=\"X[6] <= 5401.0\\\\ngini = 0.454\\\\nsamples = 92\\\\nvalue = [60, 32]\"] ;\\n0 -> 1 [labeldistance=2.5, labelangle=45, headlabel=\"True\"] ;\\n2 [label=\"X[8] <= 132.0\\\\ngini = 0.437\\\\nsamples = 87\\\\nvalue = [59, 28]\"] ;\\n1 -> 2 ;\\n3 [label=\"gini = 0.0\\\\nsamples = 2\\\\nvalue = [0, 2]\"] ;\\n2 -> 3 ;\\n4 [label=\"X[5] <= 7983.5\\\\ngini = 0.425\\\\nsamples = 85\\\\nvalue = [59, 26]\"] ;\\n2 -> 4 ;\\n5 [label=\"X[8] <= 420.0\\\\ngini = 0.447\\\\nsamples = 74\\\\nvalue = [49, 25]\"] ;\\n4 -> 5 ;\\n6 [label=\"X[7] <= 51.5\\\\ngini = 0.462\\\\nsamples = 69\\\\nvalue = [44, 25]\"] ;\\n5 -> 6 ;\\n7 [label=\"gini = 0.0\\\\nsamples = 4\\\\nvalue = [4, 0]\"] ;\\n6 -> 7 ;\\n8 [label=\"X[5] <= 2110.5\\\\ngini = 0.473\\\\nsamples = 65\\\\nvalue = [40, 25]\"] ;\\n6 -> 8 ;\\n9 [label=\"X[6] <= 1393.0\\\\ngini = 0.375\\\\nsamples = 4\\\\nvalue = [1, 3]\"] ;\\n8 -> 9 ;\\n10 [label=\"gini = 0.0\\\\nsamples = 1\\\\nvalue = [1, 0]\"] ;\\n9 -> 10 ;\\n11 [label=\"gini = 0.0\\\\nsamples = 3\\\\nvalue = [0, 3]\"] ;\\n9 -> 11 ;\\n12 [label=\"X[0] <= 0.5\\\\ngini = 0.461\\\\nsamples = 61\\\\nvalue = [39, 22]\"] ;\\n8 -> 12 ;\\n13 [label=\"X[5] <= 4193.0\\\\ngini = 0.416\\\\nsamples = 44\\\\nvalue = [31, 13]\"] ;\\n12 -> 13 ;\\n14 [label=\"X[7] <= 105.0\\\\ngini = 0.285\\\\nsamples = 29\\\\nvalue = [24, 5]\"] ;\\n13 -> 14 ;\\n15 [label=\"X[7] <= 89.0\\\\ngini = 0.494\\\\nsamples = 9\\\\nvalue = [5, 4]\"] ;\\n14 -> 15 ;\\n16 [label=\"X[7] <= 59.0\\\\ngini = 0.278\\\\nsamples = 6\\\\nvalue = [5, 1]\"] ;\\n15 -> 16 ;\\n17 [label=\"gini = 0.0\\\\nsamples = 1\\\\nvalue = [0, 1]\"] ;\\n16 -> 17 ;\\n18 [label=\"gini = 0.0\\\\nsamples = 5\\\\nvalue = [5, 0]\"] ;\\n16 -> 18 ;\\n19 [label=\"gini = 0.0\\\\nsamples = 3\\\\nvalue = [0, 3]\"] ;\\n15 -> 19 ;\\n20 [label=\"X[5] <= 2596.0\\\\ngini = 0.095\\\\nsamples = 20\\\\nvalue = [19, 1]\"] ;\\n14 -> 20 ;\\n21 [label=\"X[3] <= 0.5\\\\ngini = 0.5\\\\nsamples = 2\\\\nvalue = [1, 1]\"] ;\\n20 -> 21 ;\\n22 [label=\"gini = 0.0\\\\nsamples = 1\\\\nvalue = [0, 1]\"] ;\\n21 -> 22 ;\\n23 [label=\"gini = 0.0\\\\nsamples = 1\\\\nvalue = [1, 0]\"] ;\\n21 -> 23 ;\\n24 [label=\"gini = 0.0\\\\nsamples = 18\\\\nvalue = [18, 0]\"] ;\\n20 -> 24 ;\\n25 [label=\"X[7] <= 119.0\\\\ngini = 0.498\\\\nsamples = 15\\\\nvalue = [7, 8]\"] ;\\n13 -> 25 ;\\n26 [label=\"gini = 0.0\\\\nsamples = 4\\\\nvalue = [4, 0]\"] ;\\n25 -> 26 ;\\n27 [label=\"X[2] <= 0.5\\\\ngini = 0.397\\\\nsamples = 11\\\\nvalue = [3, 8]\"] ;\\n25 -> 27 ;\\n28 [label=\"X[7] <= 147.5\\\\ngini = 0.5\\\\nsamples = 6\\\\nvalue = [3, 3]\"] ;\\n27 -> 28 ;\\n29 [label=\"gini = 0.0\\\\nsamples = 2\\\\nvalue = [0, 2]\"] ;\\n28 -> 29 ;\\n30 [label=\"X[6] <= 3576.0\\\\ngini = 0.375\\\\nsamples = 4\\\\nvalue = [3, 1]\"] ;\\n28 -> 30 ;\\n31 [label=\"gini = 0.0\\\\nsamples = 3\\\\nvalue = [3, 0]\"] ;\\n30 -> 31 ;\\n32 [label=\"gini = 0.0\\\\nsamples = 1\\\\nvalue = [0, 1]\"] ;\\n30 -> 32 ;\\n33 [label=\"gini = 0.0\\\\nsamples = 5\\\\nvalue = [0, 5]\"] ;\\n27 -> 33 ;\\n34 [label=\"X[5] <= 2656.0\\\\ngini = 0.498\\\\nsamples = 17\\\\nvalue = [8, 9]\"] ;\\n12 -> 34 ;\\n35 [label=\"gini = 0.0\\\\nsamples = 4\\\\nvalue = [4, 0]\"] ;\\n34 -> 35 ;\\n36 [label=\"X[5] <= 4291.5\\\\ngini = 0.426\\\\nsamples = 13\\\\nvalue = [4, 9]\"] ;\\n34 -> 36 ;\\n37 [label=\"X[7] <= 80.0\\\\ngini = 0.298\\\\nsamples = 11\\\\nvalue = [2, 9]\"] ;\\n36 -> 37 ;\\n38 [label=\"gini = 0.0\\\\nsamples = 1\\\\nvalue = [1, 0]\"] ;\\n37 -> 38 ;\\n39 [label=\"X[5] <= 4133.0\\\\ngini = 0.18\\\\nsamples = 10\\\\nvalue = [1, 9]\"] ;\\n37 -> 39 ;\\n40 [label=\"gini = 0.0\\\\nsamples = 8\\\\nvalue = [0, 8]\"] ;\\n39 -> 40 ;\\n41 [label=\"X[7] <= 121.5\\\\ngini = 0.5\\\\nsamples = 2\\\\nvalue = [1, 1]\"] ;\\n39 -> 41 ;\\n42 [label=\"gini = 0.0\\\\nsamples = 1\\\\nvalue = [1, 0]\"] ;\\n41 -> 42 ;\\n43 [label=\"gini = 0.0\\\\nsamples = 1\\\\nvalue = [0, 1]\"] ;\\n41 -> 43 ;\\n44 [label=\"gini = 0.0\\\\nsamples = 2\\\\nvalue = [2, 0]\"] ;\\n36 -> 44 ;\\n45 [label=\"gini = 0.0\\\\nsamples = 5\\\\nvalue = [5, 0]\"] ;\\n5 -> 45 ;\\n46 [label=\"X[7] <= 513.0\\\\ngini = 0.165\\\\nsamples = 11\\\\nvalue = [10, 1]\"] ;\\n4 -> 46 ;\\n47 [label=\"gini = 0.0\\\\nsamples = 10\\\\nvalue = [10, 0]\"] ;\\n46 -> 47 ;\\n48 [label=\"gini = 0.0\\\\nsamples = 1\\\\nvalue = [0, 1]\"] ;\\n46 -> 48 ;\\n49 [label=\"X[2] <= 0.5\\\\ngini = 0.32\\\\nsamples = 5\\\\nvalue = [1, 4]\"] ;\\n1 -> 49 ;\\n50 [label=\"gini = 0.0\\\\nsamples = 4\\\\nvalue = [0, 4]\"] ;\\n49 -> 50 ;\\n51 [label=\"gini = 0.0\\\\nsamples = 1\\\\nvalue = [1, 0]\"] ;\\n49 -> 51 ;\\n52 [label=\"X[8] <= 48.0\\\\ngini = 0.319\\\\nsamples = 337\\\\nvalue = [67, 270]\"] ;\\n0 -> 52 [labeldistance=2.5, labelangle=-45, headlabel=\"False\"] ;\\n53 [label=\"gini = 0.0\\\\nsamples = 2\\\\nvalue = [2, 0]\"] ;\\n52 -> 53 ;\\n54 [label=\"X[7] <= 86.0\\\\ngini = 0.313\\\\nsamples = 335\\\\nvalue = [65, 270]\"] ;\\n52 -> 54 ;\\n55 [label=\"X[5] <= 4804.0\\\\ngini = 0.43\\\\nsamples = 64\\\\nvalue = [20, 44]\"] ;\\n54 -> 55 ;\\n56 [label=\"X[5] <= 4666.0\\\\ngini = 0.47\\\\nsamples = 53\\\\nvalue = [20, 33]\"] ;\\n55 -> 56 ;\\n57 [label=\"X[6] <= 3691.5\\\\ngini = 0.457\\\\nsamples = 51\\\\nvalue = [18, 33]\"] ;\\n56 -> 57 ;\\n58 [label=\"X[6] <= 1621.5\\\\ngini = 0.44\\\\nsamples = 49\\\\nvalue = [16, 33]\"] ;\\n57 -> 58 ;\\n59 [label=\"X[10] <= 0.5\\\\ngini = 0.48\\\\nsamples = 40\\\\nvalue = [16, 24]\"] ;\\n58 -> 59 ;\\n60 [label=\"X[5] <= 2295.5\\\\ngini = 0.245\\\\nsamples = 7\\\\nvalue = [6, 1]\"] ;\\n59 -> 60 ;\\n61 [label=\"gini = 0.0\\\\nsamples = 1\\\\nvalue = [0, 1]\"] ;\\n60 -> 61 ;\\n62 [label=\"gini = 0.0\\\\nsamples = 6\\\\nvalue = [6, 0]\"] ;\\n60 -> 62 ;\\n63 [label=\"X[7] <= 8.5\\\\ngini = 0.422\\\\nsamples = 33\\\\nvalue = [10, 23]\"] ;\\n59 -> 63 ;\\n64 [label=\"gini = 0.0\\\\nsamples = 3\\\\nvalue = [3, 0]\"] ;\\n63 -> 64 ;\\n65 [label=\"X[8] <= 420.0\\\\ngini = 0.358\\\\nsamples = 30\\\\nvalue = [7, 23]\"] ;\\n63 -> 65 ;\\n66 [label=\"X[5] <= 3529.5\\\\ngini = 0.328\\\\nsamples = 29\\\\nvalue = [6, 23]\"] ;\\n65 -> 66 ;\\n67 [label=\"X[5] <= 1490.0\\\\ngini = 0.236\\\\nsamples = 22\\\\nvalue = [3, 19]\"] ;\\n66 -> 67 ;\\n68 [label=\"X[7] <= 26.0\\\\ngini = 0.5\\\\nsamples = 2\\\\nvalue = [1, 1]\"] ;\\n67 -> 68 ;\\n69 [label=\"gini = 0.0\\\\nsamples = 1\\\\nvalue = [0, 1]\"] ;\\n68 -> 69 ;\\n70 [label=\"gini = 0.0\\\\nsamples = 1\\\\nvalue = [1, 0]\"] ;\\n68 -> 70 ;\\n71 [label=\"X[7] <= 72.5\\\\ngini = 0.18\\\\nsamples = 20\\\\nvalue = [2, 18]\"] ;\\n67 -> 71 ;\\n72 [label=\"gini = 0.0\\\\nsamples = 13\\\\nvalue = [0, 13]\"] ;\\n71 -> 72 ;\\n73 [label=\"X[7] <= 76.5\\\\ngini = 0.408\\\\nsamples = 7\\\\nvalue = [2, 5]\"] ;\\n71 -> 73 ;\\n74 [label=\"X[3] <= 0.5\\\\ngini = 0.444\\\\nsamples = 3\\\\nvalue = [2, 1]\"] ;\\n73 -> 74 ;\\n75 [label=\"gini = 0.0\\\\nsamples = 2\\\\nvalue = [2, 0]\"] ;\\n74 -> 75 ;\\n76 [label=\"gini = 0.0\\\\nsamples = 1\\\\nvalue = [0, 1]\"] ;\\n74 -> 76 ;\\n77 [label=\"gini = 0.0\\\\nsamples = 4\\\\nvalue = [0, 4]\"] ;\\n73 -> 77 ;\\n78 [label=\"X[10] <= 1.5\\\\ngini = 0.49\\\\nsamples = 7\\\\nvalue = [3, 4]\"] ;\\n66 -> 78 ;\\n79 [label=\"X[2] <= 0.5\\\\ngini = 0.32\\\\nsamples = 5\\\\nvalue = [1, 4]\"] ;\\n78 -> 79 ;\\n80 [label=\"gini = 0.0\\\\nsamples = 4\\\\nvalue = [0, 4]\"] ;\\n79 -> 80 ;\\n81 [label=\"gini = 0.0\\\\nsamples = 1\\\\nvalue = [1, 0]\"] ;\\n79 -> 81 ;\\n82 [label=\"gini = 0.0\\\\nsamples = 2\\\\nvalue = [2, 0]\"] ;\\n78 -> 82 ;\\n83 [label=\"gini = 0.0\\\\nsamples = 1\\\\nvalue = [1, 0]\"] ;\\n65 -> 83 ;\\n84 [label=\"gini = 0.0\\\\nsamples = 9\\\\nvalue = [0, 9]\"] ;\\n58 -> 84 ;\\n85 [label=\"gini = 0.0\\\\nsamples = 2\\\\nvalue = [2, 0]\"] ;\\n57 -> 85 ;\\n86 [label=\"gini = 0.0\\\\nsamples = 2\\\\nvalue = [2, 0]\"] ;\\n56 -> 86 ;\\n87 [label=\"gini = 0.0\\\\nsamples = 11\\\\nvalue = [0, 11]\"] ;\\n55 -> 87 ;\\n88 [label=\"X[10] <= 0.5\\\\ngini = 0.277\\\\nsamples = 271\\\\nvalue = [45, 226]\"] ;\\n54 -> 88 ;\\n89 [label=\"X[7] <= 302.0\\\\ngini = 0.378\\\\nsamples = 79\\\\nvalue = [20, 59]\"] ;\\n88 -> 89 ;\\n90 [label=\"X[6] <= 3026.5\\\\ngini = 0.346\\\\nsamples = 72\\\\nvalue = [16, 56]\"] ;\\n89 -> 90 ;\\n91 [label=\"X[6] <= 2816.0\\\\ngini = 0.391\\\\nsamples = 60\\\\nvalue = [16, 44]\"] ;\\n90 -> 91 ;\\n92 [label=\"X[2] <= 2.5\\\\ngini = 0.366\\\\nsamples = 58\\\\nvalue = [14, 44]\"] ;\\n91 -> 92 ;\\n93 [label=\"X[5] <= 587.5\\\\ngini = 0.408\\\\nsamples = 49\\\\nvalue = [14, 35]\"] ;\\n92 -> 93 ;\\n94 [label=\"gini = 0.0\\\\nsamples = 1\\\\nvalue = [1, 0]\"] ;\\n93 -> 94 ;\\n95 [label=\"X[5] <= 3241.0\\\\ngini = 0.395\\\\nsamples = 48\\\\nvalue = [13, 35]\"] ;\\n93 -> 95 ;\\n96 [label=\"X[7] <= 157.0\\\\ngini = 0.142\\\\nsamples = 13\\\\nvalue = [1, 12]\"] ;\\n95 -> 96 ;\\n97 [label=\"gini = 0.0\\\\nsamples = 12\\\\nvalue = [0, 12]\"] ;\\n96 -> 97 ;\\n98 [label=\"gini = 0.0\\\\nsamples = 1\\\\nvalue = [1, 0]\"] ;\\n96 -> 98 ;\\n99 [label=\"X[7] <= 107.0\\\\ngini = 0.451\\\\nsamples = 35\\\\nvalue = [12, 23]\"] ;\\n95 -> 99 ;\\n100 [label=\"gini = 0.0\\\\nsamples = 2\\\\nvalue = [2, 0]\"] ;\\n99 -> 100 ;\\n101 [label=\"X[5] <= 3416.0\\\\ngini = 0.422\\\\nsamples = 33\\\\nvalue = [10, 23]\"] ;\\n99 -> 101 ;\\n102 [label=\"gini = 0.0\\\\nsamples = 2\\\\nvalue = [2, 0]\"] ;\\n101 -> 102 ;\\n103 [label=\"X[3] <= 0.5\\\\ngini = 0.383\\\\nsamples = 31\\\\nvalue = [8, 23]\"] ;\\n101 -> 103 ;\\n104 [label=\"X[0] <= 0.5\\\\ngini = 0.278\\\\nsamples = 24\\\\nvalue = [4, 20]\"] ;\\n103 -> 104 ;\\n105 [label=\"X[5] <= 4916.5\\\\ngini = 0.105\\\\nsamples = 18\\\\nvalue = [1, 17]\"] ;\\n104 -> 105 ;\\n106 [label=\"X[5] <= 4468.5\\\\ngini = 0.32\\\\nsamples = 5\\\\nvalue = [1, 4]\"] ;\\n105 -> 106 ;\\n107 [label=\"gini = 0.0\\\\nsamples = 4\\\\nvalue = [0, 4]\"] ;\\n106 -> 107 ;\\n108 [label=\"gini = 0.0\\\\nsamples = 1\\\\nvalue = [1, 0]\"] ;\\n106 -> 108 ;\\n109 [label=\"gini = 0.0\\\\nsamples = 13\\\\nvalue = [0, 13]\"] ;\\n105 -> 109 ;\\n110 [label=\"X[7] <= 143.0\\\\ngini = 0.5\\\\nsamples = 6\\\\nvalue = [3, 3]\"] ;\\n104 -> 110 ;\\n111 [label=\"X[7] <= 116.0\\\\ngini = 0.375\\\\nsamples = 4\\\\nvalue = [1, 3]\"] ;\\n110 -> 111 ;\\n112 [label=\"gini = 0.0\\\\nsamples = 1\\\\nvalue = [1, 0]\"] ;\\n111 -> 112 ;\\n113 [label=\"gini = 0.0\\\\nsamples = 3\\\\nvalue = [0, 3]\"] ;\\n111 -> 113 ;\\n114 [label=\"gini = 0.0\\\\nsamples = 2\\\\nvalue = [2, 0]\"] ;\\n110 -> 114 ;\\n115 [label=\"X[5] <= 5283.0\\\\ngini = 0.49\\\\nsamples = 7\\\\nvalue = [4, 3]\"] ;\\n103 -> 115 ;\\n116 [label=\"X[2] <= 1.0\\\\ngini = 0.375\\\\nsamples = 4\\\\nvalue = [1, 3]\"] ;\\n115 -> 116 ;\\n117 [label=\"gini = 0.0\\\\nsamples = 3\\\\nvalue = [0, 3]\"] ;\\n116 -> 117 ;\\n118 [label=\"gini = 0.0\\\\nsamples = 1\\\\nvalue = [1, 0]\"] ;\\n116 -> 118 ;\\n119 [label=\"gini = 0.0\\\\nsamples = 3\\\\nvalue = [3, 0]\"] ;\\n115 -> 119 ;\\n120 [label=\"gini = 0.0\\\\nsamples = 9\\\\nvalue = [0, 9]\"] ;\\n92 -> 120 ;\\n121 [label=\"gini = 0.0\\\\nsamples = 2\\\\nvalue = [2, 0]\"] ;\\n91 -> 121 ;\\n122 [label=\"gini = 0.0\\\\nsamples = 12\\\\nvalue = [0, 12]\"] ;\\n90 -> 122 ;\\n123 [label=\"X[1] <= 0.5\\\\ngini = 0.49\\\\nsamples = 7\\\\nvalue = [4, 3]\"] ;\\n89 -> 123 ;\\n124 [label=\"gini = 0.0\\\\nsamples = 3\\\\nvalue = [3, 0]\"] ;\\n123 -> 124 ;\\n125 [label=\"X[2] <= 1.0\\\\ngini = 0.375\\\\nsamples = 4\\\\nvalue = [1, 3]\"] ;\\n123 -> 125 ;\\n126 [label=\"gini = 0.0\\\\nsamples = 1\\\\nvalue = [1, 0]\"] ;\\n125 -> 126 ;\\n127 [label=\"gini = 0.0\\\\nsamples = 3\\\\nvalue = [0, 3]\"] ;\\n125 -> 127 ;\\n128 [label=\"X[6] <= 14053.0\\\\ngini = 0.227\\\\nsamples = 192\\\\nvalue = [25, 167]\"] ;\\n88 -> 128 ;\\n129 [label=\"X[6] <= 94.5\\\\ngini = 0.214\\\\nsamples = 189\\\\nvalue = [23, 166]\"] ;\\n128 -> 129 ;\\n130 [label=\"X[5] <= 2747.5\\\\ngini = 0.296\\\\nsamples = 83\\\\nvalue = [15, 68]\"] ;\\n129 -> 130 ;\\n131 [label=\"gini = 0.0\\\\nsamples = 2\\\\nvalue = [2, 0]\"] ;\\n130 -> 131 ;\\n132 [label=\"X[7] <= 133.5\\\\ngini = 0.269\\\\nsamples = 81\\\\nvalue = [13, 68]\"] ;\\n130 -> 132 ;\\n133 [label=\"X[7] <= 112.5\\\\ngini = 0.133\\\\nsamples = 42\\\\nvalue = [3, 39]\"] ;\\n132 -> 133 ;\\n134 [label=\"X[7] <= 111.5\\\\ngini = 0.219\\\\nsamples = 24\\\\nvalue = [3, 21]\"] ;\\n133 -> 134 ;\\n135 [label=\"X[10] <= 1.5\\\\ngini = 0.165\\\\nsamples = 22\\\\nvalue = [2, 20]\"] ;\\n134 -> 135 ;\\n136 [label=\"gini = 0.0\\\\nsamples = 15\\\\nvalue = [0, 15]\"] ;\\n135 -> 136 ;\\n137 [label=\"X[5] <= 3496.5\\\\ngini = 0.408\\\\nsamples = 7\\\\nvalue = [2, 5]\"] ;\\n135 -> 137 ;\\n138 [label=\"gini = 0.0\\\\nsamples = 2\\\\nvalue = [0, 2]\"] ;\\n137 -> 138 ;\\n139 [label=\"X[5] <= 3666.5\\\\ngini = 0.48\\\\nsamples = 5\\\\nvalue = [2, 3]\"] ;\\n137 -> 139 ;\\n140 [label=\"gini = 0.0\\\\nsamples = 1\\\\nvalue = [1, 0]\"] ;\\n139 -> 140 ;\\n141 [label=\"X[5] <= 4423.5\\\\ngini = 0.375\\\\nsamples = 4\\\\nvalue = [1, 3]\"] ;\\n139 -> 141 ;\\n142 [label=\"gini = 0.0\\\\nsamples = 2\\\\nvalue = [0, 2]\"] ;\\n141 -> 142 ;\\n143 [label=\"X[3] <= 0.5\\\\ngini = 0.5\\\\nsamples = 2\\\\nvalue = [1, 1]\"] ;\\n141 -> 143 ;\\n144 [label=\"gini = 0.0\\\\nsamples = 1\\\\nvalue = [1, 0]\"] ;\\n143 -> 144 ;\\n145 [label=\"gini = 0.0\\\\nsamples = 1\\\\nvalue = [0, 1]\"] ;\\n143 -> 145 ;\\n146 [label=\"X[5] <= 6966.5\\\\ngini = 0.5\\\\nsamples = 2\\\\nvalue = [1, 1]\"] ;\\n134 -> 146 ;\\n147 [label=\"gini = 0.0\\\\nsamples = 1\\\\nvalue = [1, 0]\"] ;\\n146 -> 147 ;\\n148 [label=\"gini = 0.0\\\\nsamples = 1\\\\nvalue = [0, 1]\"] ;\\n146 -> 148 ;\\n149 [label=\"gini = 0.0\\\\nsamples = 18\\\\nvalue = [0, 18]\"] ;\\n133 -> 149 ;\\n150 [label=\"X[5] <= 4641.0\\\\ngini = 0.381\\\\nsamples = 39\\\\nvalue = [10, 29]\"] ;\\n132 -> 150 ;\\n151 [label=\"gini = 0.0\\\\nsamples = 2\\\\nvalue = [2, 0]\"] ;\\n150 -> 151 ;\\n152 [label=\"X[0] <= 0.5\\\\ngini = 0.339\\\\nsamples = 37\\\\nvalue = [8, 29]\"] ;\\n150 -> 152 ;\\n153 [label=\"X[5] <= 4960.0\\\\ngini = 0.391\\\\nsamples = 30\\\\nvalue = [8, 22]\"] ;\\n152 -> 153 ;\\n154 [label=\"gini = 0.0\\\\nsamples = 1\\\\nvalue = [1, 0]\"] ;\\n153 -> 154 ;\\n155 [label=\"X[5] <= 17499.5\\\\ngini = 0.366\\\\nsamples = 29\\\\nvalue = [7, 22]\"] ;\\n153 -> 155 ;\\n156 [label=\"X[2] <= 0.5\\\\ngini = 0.311\\\\nsamples = 26\\\\nvalue = [5, 21]\"] ;\\n155 -> 156 ;\\n157 [label=\"X[5] <= 7441.5\\\\ngini = 0.408\\\\nsamples = 14\\\\nvalue = [4, 10]\"] ;\\n156 -> 157 ;\\n158 [label=\"gini = 0.0\\\\nsamples = 4\\\\nvalue = [0, 4]\"] ;\\n157 -> 158 ;\\n159 [label=\"X[5] <= 9363.0\\\\ngini = 0.48\\\\nsamples = 10\\\\nvalue = [4, 6]\"] ;\\n157 -> 159 ;\\n160 [label=\"gini = 0.0\\\\nsamples = 3\\\\nvalue = [3, 0]\"] ;\\n159 -> 160 ;\\n161 [label=\"X[7] <= 177.5\\\\ngini = 0.245\\\\nsamples = 7\\\\nvalue = [1, 6]\"] ;\\n159 -> 161 ;\\n162 [label=\"X[10] <= 1.5\\\\ngini = 0.5\\\\nsamples = 2\\\\nvalue = [1, 1]\"] ;\\n161 -> 162 ;\\n163 [label=\"gini = 0.0\\\\nsamples = 1\\\\nvalue = [1, 0]\"] ;\\n162 -> 163 ;\\n164 [label=\"gini = 0.0\\\\nsamples = 1\\\\nvalue = [0, 1]\"] ;\\n162 -> 164 ;\\n165 [label=\"gini = 0.0\\\\nsamples = 5\\\\nvalue = [0, 5]\"] ;\\n161 -> 165 ;\\n166 [label=\"X[8] <= 300.0\\\\ngini = 0.153\\\\nsamples = 12\\\\nvalue = [1, 11]\"] ;\\n156 -> 166 ;\\n167 [label=\"X[8] <= 210.0\\\\ngini = 0.5\\\\nsamples = 2\\\\nvalue = [1, 1]\"] ;\\n166 -> 167 ;\\n168 [label=\"gini = 0.0\\\\nsamples = 1\\\\nvalue = [0, 1]\"] ;\\n167 -> 168 ;\\n169 [label=\"gini = 0.0\\\\nsamples = 1\\\\nvalue = [1, 0]\"] ;\\n167 -> 169 ;\\n170 [label=\"gini = 0.0\\\\nsamples = 10\\\\nvalue = [0, 10]\"] ;\\n166 -> 170 ;\\n171 [label=\"X[8] <= 330.0\\\\ngini = 0.444\\\\nsamples = 3\\\\nvalue = [2, 1]\"] ;\\n155 -> 171 ;\\n172 [label=\"gini = 0.0\\\\nsamples = 1\\\\nvalue = [0, 1]\"] ;\\n171 -> 172 ;\\n173 [label=\"gini = 0.0\\\\nsamples = 2\\\\nvalue = [2, 0]\"] ;\\n171 -> 173 ;\\n174 [label=\"gini = 0.0\\\\nsamples = 7\\\\nvalue = [0, 7]\"] ;\\n152 -> 174 ;\\n175 [label=\"X[8] <= 330.0\\\\ngini = 0.14\\\\nsamples = 106\\\\nvalue = [8, 98]\"] ;\\n129 -> 175 ;\\n176 [label=\"X[1] <= 0.5\\\\ngini = 0.32\\\\nsamples = 15\\\\nvalue = [3, 12]\"] ;\\n175 -> 176 ;\\n177 [label=\"X[8] <= 120.0\\\\ngini = 0.444\\\\nsamples = 3\\\\nvalue = [2, 1]\"] ;\\n176 -> 177 ;\\n178 [label=\"gini = 0.0\\\\nsamples = 1\\\\nvalue = [0, 1]\"] ;\\n177 -> 178 ;\\n179 [label=\"gini = 0.0\\\\nsamples = 2\\\\nvalue = [2, 0]\"] ;\\n177 -> 179 ;\\n180 [label=\"X[5] <= 2585.5\\\\ngini = 0.153\\\\nsamples = 12\\\\nvalue = [1, 11]\"] ;\\n176 -> 180 ;\\n181 [label=\"X[6] <= 1804.0\\\\ngini = 0.5\\\\nsamples = 2\\\\nvalue = [1, 1]\"] ;\\n180 -> 181 ;\\n182 [label=\"gini = 0.0\\\\nsamples = 1\\\\nvalue = [0, 1]\"] ;\\n181 -> 182 ;\\n183 [label=\"gini = 0.0\\\\nsamples = 1\\\\nvalue = [1, 0]\"] ;\\n181 -> 183 ;\\n184 [label=\"gini = 0.0\\\\nsamples = 10\\\\nvalue = [0, 10]\"] ;\\n180 -> 184 ;\\n185 [label=\"X[6] <= 2434.0\\\\ngini = 0.104\\\\nsamples = 91\\\\nvalue = [5, 86]\"] ;\\n175 -> 185 ;\\n186 [label=\"X[7] <= 183.5\\\\ngini = 0.033\\\\nsamples = 60\\\\nvalue = [1, 59]\"] ;\\n185 -> 186 ;\\n187 [label=\"gini = 0.0\\\\nsamples = 55\\\\nvalue = [0, 55]\"] ;\\n186 -> 187 ;\\n188 [label=\"X[2] <= 0.5\\\\ngini = 0.32\\\\nsamples = 5\\\\nvalue = [1, 4]\"] ;\\n186 -> 188 ;\\n189 [label=\"gini = 0.0\\\\nsamples = 1\\\\nvalue = [1, 0]\"] ;\\n188 -> 189 ;\\n190 [label=\"gini = 0.0\\\\nsamples = 4\\\\nvalue = [0, 4]\"] ;\\n188 -> 190 ;\\n191 [label=\"X[7] <= 114.0\\\\ngini = 0.225\\\\nsamples = 31\\\\nvalue = [4, 27]\"] ;\\n185 -> 191 ;\\n192 [label=\"X[7] <= 100.0\\\\ngini = 0.444\\\\nsamples = 3\\\\nvalue = [2, 1]\"] ;\\n191 -> 192 ;\\n193 [label=\"gini = 0.0\\\\nsamples = 1\\\\nvalue = [0, 1]\"] ;\\n192 -> 193 ;\\n194 [label=\"gini = 0.0\\\\nsamples = 2\\\\nvalue = [2, 0]\"] ;\\n192 -> 194 ;\\n195 [label=\"X[6] <= 2687.0\\\\ngini = 0.133\\\\nsamples = 28\\\\nvalue = [2, 26]\"] ;\\n191 -> 195 ;\\n196 [label=\"X[6] <= 2557.0\\\\ngini = 0.375\\\\nsamples = 4\\\\nvalue = [1, 3]\"] ;\\n195 -> 196 ;\\n197 [label=\"gini = 0.0\\\\nsamples = 3\\\\nvalue = [0, 3]\"] ;\\n196 -> 197 ;\\n198 [label=\"gini = 0.0\\\\nsamples = 1\\\\nvalue = [1, 0]\"] ;\\n196 -> 198 ;\\n199 [label=\"X[7] <= 256.5\\\\ngini = 0.08\\\\nsamples = 24\\\\nvalue = [1, 23]\"] ;\\n195 -> 199 ;\\n200 [label=\"gini = 0.0\\\\nsamples = 19\\\\nvalue = [0, 19]\"] ;\\n199 -> 200 ;\\n201 [label=\"X[7] <= 262.5\\\\ngini = 0.32\\\\nsamples = 5\\\\nvalue = [1, 4]\"] ;\\n199 -> 201 ;\\n202 [label=\"gini = 0.0\\\\nsamples = 1\\\\nvalue = [1, 0]\"] ;\\n201 -> 202 ;\\n203 [label=\"gini = 0.0\\\\nsamples = 4\\\\nvalue = [0, 4]\"] ;\\n201 -> 203 ;\\n204 [label=\"X[10] <= 1.5\\\\ngini = 0.444\\\\nsamples = 3\\\\nvalue = [2, 1]\"] ;\\n128 -> 204 ;\\n205 [label=\"gini = 0.0\\\\nsamples = 1\\\\nvalue = [0, 1]\"] ;\\n204 -> 205 ;\\n206 [label=\"gini = 0.0\\\\nsamples = 2\\\\nvalue = [2, 0]\"] ;\\n204 -> 206 ;\\n}'"
      ]
     },
     "execution_count": 52,
     "metadata": {},
     "output_type": "execute_result"
    },
    {
     "data": {
      "image/png": "[encoded data removed]",
      "text/plain": [
       "<Figure size 432x288 with 1 Axes>"
      ]
     },
     "metadata": {
      "needs_background": "light"
     },
     "output_type": "display_data"
    }
   ],
   "source": [
    "from sklearn import tree\n",
    "tree.plot_tree(clf)\n",
    "tree.export_graphviz(clf)"
   ]
  },
  {
   "cell_type": "code",
   "execution_count": null,
   "metadata": {},
   "outputs": [],
   "source": []
  }
 ],
 "metadata": {
  "kernelspec": {
   "display_name": "Python 3",
   "language": "python",
   "name": "python3"
  },
  "language_info": {
   "codemirror_mode": {
    "name": "ipython",
    "version": 3
   },
   "file_extension": ".py",
   "mimetype": "text/x-python",
   "name": "python",
   "nbconvert_exporter": "python",
   "pygments_lexer": "ipython3",
   "version": "3.8.5"
  }
 },
 "nbformat": 4,
 "nbformat_minor": 4
}
